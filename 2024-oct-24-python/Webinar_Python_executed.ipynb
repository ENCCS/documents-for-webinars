{
 "cells": [
  {
   "cell_type": "markdown",
   "id": "ba2baa74-a09a-40e6-88f7-039199bde853",
   "metadata": {},
   "source": [
    "# Python Programming"
   ]
  },
  {
   "cell_type": "markdown",
   "id": "6cfabd38-0359-4540-9f1f-f57a9862ede9",
   "metadata": {
    "tags": []
   },
   "source": [
    "## 1. Introduction to Python"
   ]
  },
  {
   "cell_type": "markdown",
   "id": "d2083379-21fc-4a9a-bef6-f61eafee7fa5",
   "metadata": {
    "tags": []
   },
   "source": [
    "::::{hint} Prerequisites\n",
    "\n",
    ":::{dropdown} **Scalar variables**: integers (`int`), floating point numbers (`float`), strings (`str`), *etc.*\n",
    "\n",
    "```python\n",
    "42  # int\n",
    "1.0  # float\n",
    "'these'\n",
    "\"are\"\n",
    "\"\"\"all\n",
    "valid strings.\"\"\"\n",
    "```\n",
    ":::\n",
    "\n",
    ":::{dropdown} **Collections**: `list`, `tuple`, `dict`, `set`, *etc.*\n",
    "\n",
    "```python\n",
    ">>> # Lists: are mutable ordered-sequences\n",
    ">>> my_things = [1, 2, 'banana']\n",
    ">>> my_things.append(3.14)\n",
    ">>> my_things\n",
    "[1, 2, 'banana', 3.14]\n",
    "```\n",
    "```python\n",
    ">>> # Tuples: are immutable ordered-sequences\n",
    ">>> truthy_values = ('yes', 'ja', True, 1.0)\n",
    ">>> del truthy_values[0]\n",
    "Traceback (most recent call last):\n",
    "  File \"<stdin>\", line 1, in <module>\n",
    "TypeError: 'tuple' object doesn't support item deletion\n",
    "```\n",
    "```python\n",
    ">>> # Dictionaries: key-value pairs or hash-maps\n",
    ">>> game_status = {\"jill\": 99, \"t-rex\": \"RIP\"}\n",
    "```\n",
    "```python\n",
    ">>> # Sets: unique unordered sequences\n",
    ">>> fruits = {\"apple\", \"banana\", \"banana\"}\n",
    ">>> fruits\n",
    "{'apple', 'banana'}\n",
    "```\n",
    ":::\n",
    "\n",
    ":::{dropdown} **Control structures**: `if-elif-else`, `for` loop, `while` loop, *etc.*\n",
    "\n",
    "```python\n",
    "\n",
    "# Conditional expressions\n",
    "if 0.5 > schrödingers_cat > 1.0:\n",
    "    print(\"Alive\")\n",
    "elif 0. > schrödingers_cat >= 0.5:\n",
    "    print(\"Dead\")\n",
    "else:\n",
    "    print(\"Undead\")\n",
    "\n",
    "# Loops\n",
    "for i_day in range(365):\n",
    "    print(\"Hi, good morning!\")\n",
    "\n",
    "while True:\n",
    "    print(\"Na\", end=\"\")\n",
    "    if input() == \"stop\":\n",
    "        break\n",
    "print(\"Batman!\")\n",
    "```\n",
    "\n",
    ":::\n",
    "\n",
    ":::{dropdown} **Functions**: built-in functions (`len`, `type`, ...) and user-defined functions.\n",
    "\n",
    "```python\n",
    ">>> greeting = \"hello world\"\n",
    ">>> len(greeting)\n",
    "11\n",
    ">>> type(greeting)\n",
    "<class 'str'>\n",
    "```\n",
    ":::\n",
    "\n",
    ":::{dropdown} **Decorators**: special syntax which modifies the behaviour of a function or a class.\n",
    ":class: dropdown\n",
    "\n",
    "```python\n",
    "@something\n",
    "def foo():\n",
    "    ...\n",
    "```\n",
    "\n",
    "```{seealso}\n",
    "\n",
    "- `functools.lru_cache` for an example of a decorator,\n",
    "- `functools.wraps` and `contextlib.contextmanager` to create your own decorators.\n",
    "```\n",
    "\n",
    ":::\n",
    "\n",
    "::::\n",
    "\n",
    "\n",
    "Python also uses and encourages us to structure code using\n",
    "- Type annotations: hints which can be used by a type-checker or a compiler.\n",
    "- Class: simple encapsulation, inheritance, *etc.*\n",
    "- Modules: a `.py` file containing a valid Python code. Typically does not execute anything on import.\n",
    "- Package: an installable, re-usable collection of modules and other files, distributable via PyPI or conda-forge\n",
    "\n",
    "**but this is not necessary for the purpose of this webinar.**"
   ]
  },
  {
   "cell_type": "markdown",
   "id": "b89c6550-0f01-4b54-840e-56bdca1d76af",
   "metadata": {
    "tags": []
   },
   "source": [
    "## 2. Numpy, Pandas, Matplotlib"
   ]
  },
  {
   "cell_type": "code",
   "execution_count": 6,
   "id": "d1d7db53-e450-434b-ab49-729204ad130d",
   "metadata": {
    "editable": true,
    "jupyter": {
     "source_hidden": true
    },
    "slideshow": {
     "slide_type": ""
    },
    "tags": []
   },
   "outputs": [],
   "source": [
    "# Code for display_timings()\n",
    "\n",
    "import matplotlib.pyplot as plt\n",
    "\n",
    "\n",
    "def display_timings(**kwargs):\n",
    "    nrows = len(kwargs)\n",
    "    fig, ax = plt.subplots(figsize=(8, min(nrows, 8)))\n",
    "    keys = list(kwargs)\n",
    "    fmt_keys = [k.replace(\"_\", \" \") for k in kwargs]\n",
    "    i_keys = list(range(len(keys)))\n",
    "\n",
    "    ax.barh(i_keys, times := [kwargs[key].average for key in keys])\n",
    "    ax.errorbar(times, i_keys, xerr=[kwargs[key].stdev for key in keys], fmt=\"ro\")\n",
    "    ax.set(xscale=\"log\", xlabel=\"avg. wall time (seconds)\")\n",
    "    axis = plt.gca()\n",
    "    axis.set_yticks(i_keys, fmt_keys)"
   ]
  },
  {
   "cell_type": "markdown",
   "id": "a56cce2a-ce7e-4eab-947c-38fce97c6e29",
   "metadata": {
    "tags": []
   },
   "source": [
    "### 2.1 Numpy"
   ]
  },
  {
   "cell_type": "markdown",
   "id": "a04b38be-3f54-4250-ac43-4e90930f3a34",
   "metadata": {},
   "source": [
    ":::{important}`NumPy` is a Python library for arrays\n",
    "It can be used to perform a wide variety of (efficient) mathematical operations and linear algebra on arrays and matrices.\n",
    ":::"
   ]
  },
  {
   "cell_type": "code",
   "execution_count": 2,
   "id": "f5384d75-b9c5-4cf9-9212-19bcc8c0de9d",
   "metadata": {
    "tags": []
   },
   "outputs": [],
   "source": [
    "a = list(range(10000))\n",
    "b = [0] * 10000"
   ]
  },
  {
   "cell_type": "markdown",
   "id": "493ff3be-4950-4e6d-b1bd-a58e3896b91f",
   "metadata": {},
   "source": [
    "Why should use **loops**..."
   ]
  },
  {
   "cell_type": "code",
   "execution_count": 3,
   "id": "f00b3bca-9c3d-4335-b794-2bd5d7271b96",
   "metadata": {
    "tags": []
   },
   "outputs": [
    {
     "data": {
      "text/plain": [
       "<TimeitResult : 2.11 ms ± 24.1 μs per loop (mean ± std. dev. of 7 runs, 1,000 loops each)>"
      ]
     },
     "execution_count": 3,
     "metadata": {},
     "output_type": "execute_result"
    }
   ],
   "source": [
    "%%timeit -q -o\n",
    "for i in range(len(a)):\n",
    "    b[i] = a[i] ** 2"
   ]
  },
  {
   "cell_type": "code",
   "execution_count": 4,
   "id": "73a58903-1e0c-4265-abcd-3f23b387a16c",
   "metadata": {},
   "outputs": [],
   "source": [
    "time_loops = _"
   ]
  },
  {
   "cell_type": "code",
   "execution_count": 5,
   "id": "40ac5f0b-b658-4f6e-bc99-f1599cbfe025",
   "metadata": {
    "tags": []
   },
   "outputs": [],
   "source": [
    "import numpy as np\n",
    "\n",
    "a = np.arange(10000)"
   ]
  },
  {
   "cell_type": "markdown",
   "id": "f2912549-bdbc-4b14-9526-68e304eb42cb",
   "metadata": {},
   "source": [
    "... when you can **vectorize**!"
   ]
  },
  {
   "cell_type": "code",
   "execution_count": 6,
   "id": "86469330-2d6c-4328-9660-bd94a21b8485",
   "metadata": {
    "tags": []
   },
   "outputs": [
    {
     "data": {
      "text/plain": [
       "<TimeitResult : 2.72 μs ± 17.2 ns per loop (mean ± std. dev. of 7 runs, 100,000 loops each)>"
      ]
     },
     "execution_count": 6,
     "metadata": {},
     "output_type": "execute_result"
    }
   ],
   "source": [
    "%%timeit -q -o\n",
    "b = a**2"
   ]
  },
  {
   "cell_type": "code",
   "execution_count": 7,
   "id": "4053bf14-a977-4b73-921e-0e447355135d",
   "metadata": {},
   "outputs": [],
   "source": [
    "time_vec = _"
   ]
  },
  {
   "cell_type": "code",
   "execution_count": 8,
   "id": "59766bb7-2048-441c-adeb-8749c4fb7055",
   "metadata": {},
   "outputs": [
    {
     "data": {
      "image/png": "[encoded data removed]",
      "text/plain": [
       "<Figure size 800x200 with 1 Axes>"
      ]
     },
     "metadata": {},
     "output_type": "display_data"
    }
   ],
   "source": [
    "display_timings(loops_over_lists=time_loops, vectorized_math_with_arrays=time_vec)"
   ]
  },
  {
   "cell_type": "markdown",
   "id": "3d081ff9-356d-4204-aba7-6c666ac14c92",
   "metadata": {},
   "source": [
    ":::{note}\n",
    "Numpy is often imported as `np` and this is common convention.\n",
    ":::"
   ]
  },
  {
   "cell_type": "markdown",
   "id": "50d5829f-7475-4099-b2a1-808e5e43e205",
   "metadata": {},
   "source": [
    "#### Creating arrays"
   ]
  },
  {
   "cell_type": "markdown",
   "id": "66f9010b-f411-45c1-9b8e-709b24e7174e",
   "metadata": {},
   "source": [
    "Python sequences such as lists or tuples can be **transformed** into a Numpy array.\n",
    "\n",
    "Numpy arrays can be **1D, 2D, .... n-dimensional**."
   ]
  },
  {
   "cell_type": "code",
   "execution_count": 9,
   "id": "703be7b6-58ed-4a0e-991e-23f57a9d50a6",
   "metadata": {
    "tags": []
   },
   "outputs": [
    {
     "name": "stdout",
     "output_type": "stream",
     "text": [
      "(2, 3)\n",
      "6\n"
     ]
    }
   ],
   "source": [
    "a = np.array([1, 2, 3])  # 1-dimensional array (rank 1)\n",
    "b = np.array([[1, 2, 3], [4, 5, 6]])  # 2-dimensional array (rank 2)\n",
    "\n",
    "print(b.shape)  # the shape (rows,columns)\n",
    "print(b.size)  # number of elements"
   ]
  },
  {
   "cell_type": "markdown",
   "id": "bae34ec8-feed-41fa-9688-a2a8d1b5e05b",
   "metadata": {},
   "source": [
    "It is often **homogenous**, that is made of a single data type"
   ]
  },
  {
   "cell_type": "code",
   "execution_count": 10,
   "id": "da1bb5cc-def3-4b1f-b009-be0e63bde302",
   "metadata": {},
   "outputs": [
    {
     "data": {
      "text/plain": [
       "dtype('int64')"
      ]
     },
     "execution_count": 10,
     "metadata": {},
     "output_type": "execute_result"
    }
   ],
   "source": [
    "a.dtype"
   ]
  },
  {
   "cell_type": "markdown",
   "id": "264353de-08ab-4ff5-8e15-30f81920590a",
   "metadata": {},
   "source": [
    "Arrays can also be **generated**."
   ]
  },
  {
   "cell_type": "code",
   "execution_count": 11,
   "id": "966b17fe-dcd1-4a3b-bf9b-868640436e0e",
   "metadata": {},
   "outputs": [
    {
     "data": {
      "text/plain": [
       "array([[1., 0., 0.],\n",
       "       [0., 1., 0.],\n",
       "       [0., 0., 1.]])"
      ]
     },
     "execution_count": 11,
     "metadata": {},
     "output_type": "execute_result"
    }
   ],
   "source": [
    "np.eye(3)  # Identity \"matrix\""
   ]
  },
  {
   "cell_type": "code",
   "execution_count": 12,
   "id": "16f6731d-54fa-4c5f-8045-157af6659ecc",
   "metadata": {
    "tags": []
   },
   "outputs": [
    {
     "data": {
      "text/plain": [
       "array([ 0,  1,  2,  3,  4,  5,  6,  7,  8,  9, 10, 11, 12, 13, 14, 15])"
      ]
     },
     "execution_count": 12,
     "metadata": {},
     "output_type": "execute_result"
    }
   ],
   "source": [
    "a = np.arange(16)\n",
    "a"
   ]
  },
  {
   "cell_type": "code",
   "execution_count": 13,
   "id": "570222e7-2d00-4429-a152-5567739ac3f9",
   "metadata": {
    "tags": []
   },
   "outputs": [
    {
     "data": {
      "text/plain": [
       "array([[0.48393543, 0.84738729, 0.9970519 , 0.96338808],\n",
       "       [0.04859883, 0.85952064, 0.4993356 , 0.83991888],\n",
       "       [0.31325352, 0.22319914, 0.33228195, 0.61012378],\n",
       "       [0.73402512, 0.19036682, 0.79140184, 0.50256134]])"
      ]
     },
     "execution_count": 13,
     "metadata": {},
     "output_type": "execute_result"
    }
   ],
   "source": [
    "a = a.reshape(4, 4)\n",
    "\n",
    "b = np.random.rand(16).reshape(4, 4)\n",
    "b"
   ]
  },
  {
   "cell_type": "markdown",
   "id": "6a3ba29a-5359-464e-9575-43c0b8482972",
   "metadata": {},
   "source": [
    "#### Array maths and vectorization"
   ]
  },
  {
   "cell_type": "code",
   "execution_count": 14,
   "id": "cab88137-9c85-4f38-8205-4aba812afcac",
   "metadata": {
    "tags": []
   },
   "outputs": [
    {
     "data": {
      "text/plain": [
       "array([[ 0.48393543,  1.84738729,  2.9970519 ,  3.96338808],\n",
       "       [ 4.04859883,  5.85952064,  6.4993356 ,  7.83991888],\n",
       "       [ 8.31325352,  9.22319914, 10.33228195, 11.61012378],\n",
       "       [12.73402512, 13.19036682, 14.79140184, 15.50256134]])"
      ]
     },
     "execution_count": 14,
     "metadata": {},
     "output_type": "execute_result"
    }
   ],
   "source": [
    "c = np.add(a, b)  # equivalent to `a + b`\n",
    "c"
   ]
  },
  {
   "cell_type": "markdown",
   "id": "9501b227-3d36-461f-be59-23cd8bc8b3b8",
   "metadata": {},
   "source": [
    "Other common mathematical operations include:\n",
    "- elementwise operations:\n",
    "    - `-` (numpy.subtract)\n",
    "    - `*` (numpy.multiply)\n",
    "    - `/` (numpy.divide)\n",
    "    - `**` (numpy.pow())\n",
    "- `.T` (numpy.transpose())\n",
    "- `np.sqrt()`, `np.sum()`, `np.mean()`, `np.std()`, `np.max()`, `np.min()`\n",
    "- `@` (np.dot() / np.matmul())"
   ]
  },
  {
   "cell_type": "code",
   "execution_count": 15,
   "id": "f2d7221d-50fd-4e03-93d1-58bd52848e40",
   "metadata": {
    "tags": []
   },
   "outputs": [
    {
     "data": {
      "text/plain": [
       "array([[ 0.        ,  0.84738729,  1.99410381,  2.89016425],\n",
       "       [ 0.19439533,  4.29760318,  2.99601363,  5.87943213],\n",
       "       [ 2.50602814,  2.00879228,  3.32281947,  6.71136158],\n",
       "       [ 8.80830139,  2.47476861, 11.07962575,  7.53842013]])"
      ]
     },
     "execution_count": 15,
     "metadata": {},
     "output_type": "execute_result"
    }
   ],
   "source": [
    "# Matrix multiplication\n",
    "a * b"
   ]
  },
  {
   "cell_type": "code",
   "execution_count": 16,
   "id": "0e97f178-08d1-4dd0-a69e-82c768eadb93",
   "metadata": {
    "tags": []
   },
   "outputs": [
    {
     "data": {
      "text/plain": [
       "array([[ 2.87718121,  1.87701937,  3.53810502,  3.56785046],\n",
       "       [ 9.1964328 , 10.3589149 , 14.01839019, 15.23181878],\n",
       "       [15.51568438, 18.84081043, 24.49867537, 26.89578711],\n",
       "       [21.83493596, 27.32270596, 34.97896054, 38.55975543]])"
      ]
     },
     "execution_count": 16,
     "metadata": {},
     "output_type": "execute_result"
    }
   ],
   "source": [
    "np.dot(a, b)  # equals to `a @ b`"
   ]
  },
  {
   "cell_type": "code",
   "execution_count": 17,
   "id": "c20bff41-90c4-4bb9-a85d-90630ff1ea4e",
   "metadata": {
    "scrolled": true
   },
   "outputs": [
    {
     "data": {
      "text/plain": [
       "array([[ 2.87718121,  1.87701937,  3.53810502,  3.56785046],\n",
       "       [ 9.1964328 , 10.3589149 , 14.01839019, 15.23181878],\n",
       "       [15.51568438, 18.84081043, 24.49867537, 26.89578711],\n",
       "       [21.83493596, 27.32270596, 34.97896054, 38.55975543]])"
      ]
     },
     "execution_count": 17,
     "metadata": {},
     "output_type": "execute_result"
    }
   ],
   "source": [
    "np.matmul(a, b)"
   ]
  },
  {
   "cell_type": "markdown",
   "id": "4635d344-dbfd-422e-9df8-de40df77a1ed",
   "metadata": {
    "tags": []
   },
   "source": [
    "### 2.2 Pandas"
   ]
  },
  {
   "cell_type": "markdown",
   "id": "1621a8c9-7601-4373-8924-8071d265ad3e",
   "metadata": {
    "tags": []
   },
   "source": [
    ":::{important}`Pandas` is for tabular data\n",
    "\n",
    "It is provides intuitive data structures for functions for reading in, manipulating and\n",
    "performing high-performance data analysis of tabular data.\n",
    ":::"
   ]
  },
  {
   "cell_type": "markdown",
   "id": "7622ac05-2920-4ce2-a8fa-24fa42b5a736",
   "metadata": {},
   "source": [
    "#### Code example to analyze the Titanic passenger data"
   ]
  },
  {
   "cell_type": "code",
   "execution_count": 18,
   "id": "e5a44bd7-6ead-4cc1-bc3e-2e8eeffcdf7f",
   "metadata": {
    "tags": []
   },
   "outputs": [],
   "source": [
    "import pandas as pd\n",
    "\n",
    "url = \"https://raw.githubusercontent.com/pandas-dev/pandas/master/doc/data/titanic.csv\"\n",
    "titanic = pd.read_csv(url, index_col=\"Name\")"
   ]
  },
  {
   "cell_type": "code",
   "execution_count": 19,
   "id": "5747689f-7544-498d-806b-dc599f490668",
   "metadata": {},
   "outputs": [
    {
     "data": {
      "text/plain": [
       "(891, 11)"
      ]
     },
     "execution_count": 19,
     "metadata": {},
     "output_type": "execute_result"
    }
   ],
   "source": [
    "titanic.shape"
   ]
  },
  {
   "cell_type": "markdown",
   "id": "b14fbe71-913e-423f-8414-e2e04e0105b9",
   "metadata": {},
   "source": [
    "Tabular data can be **heterogenous**."
   ]
  },
  {
   "cell_type": "code",
   "execution_count": 20,
   "id": "498e33ad-b673-4f24-85ba-d5615a932d98",
   "metadata": {},
   "outputs": [
    {
     "data": {
      "text/plain": [
       "PassengerId      int64\n",
       "Survived         int64\n",
       "Pclass           int64\n",
       "Sex             object\n",
       "Age            float64\n",
       "SibSp            int64\n",
       "Parch            int64\n",
       "Ticket          object\n",
       "Fare           float64\n",
       "Cabin           object\n",
       "Embarked        object\n",
       "dtype: object"
      ]
     },
     "execution_count": 20,
     "metadata": {},
     "output_type": "execute_result"
    }
   ],
   "source": [
    "titanic.dtypes"
   ]
  },
  {
   "cell_type": "code",
   "execution_count": 21,
   "id": "98b97f1b-c2ed-413b-89ea-821425dd170a",
   "metadata": {
    "tags": []
   },
   "outputs": [
    {
     "data": {
      "text/html": [
       "<div>\n",
       "<style scoped>\n",
       "    .dataframe tbody tr th:only-of-type {\n",
       "        vertical-align: middle;\n",
       "    }\n",
       "\n",
       "    .dataframe tbody tr th {\n",
       "        vertical-align: top;\n",
       "    }\n",
       "\n",
       "    .dataframe thead th {\n",
       "        text-align: right;\n",
       "    }\n",
       "</style>\n",
       "<table border=\"1\" class=\"dataframe\">\n",
       "  <thead>\n",
       "    <tr style=\"text-align: right;\">\n",
       "      <th></th>\n",
       "      <th>PassengerId</th>\n",
       "      <th>Survived</th>\n",
       "      <th>Pclass</th>\n",
       "      <th>Sex</th>\n",
       "      <th>Age</th>\n",
       "      <th>SibSp</th>\n",
       "      <th>Parch</th>\n",
       "      <th>Ticket</th>\n",
       "      <th>Fare</th>\n",
       "      <th>Cabin</th>\n",
       "      <th>Embarked</th>\n",
       "    </tr>\n",
       "    <tr>\n",
       "      <th>Name</th>\n",
       "      <th></th>\n",
       "      <th></th>\n",
       "      <th></th>\n",
       "      <th></th>\n",
       "      <th></th>\n",
       "      <th></th>\n",
       "      <th></th>\n",
       "      <th></th>\n",
       "      <th></th>\n",
       "      <th></th>\n",
       "      <th></th>\n",
       "    </tr>\n",
       "  </thead>\n",
       "  <tbody>\n",
       "    <tr>\n",
       "      <th>Braund, Mr. Owen Harris</th>\n",
       "      <td>1</td>\n",
       "      <td>0</td>\n",
       "      <td>3</td>\n",
       "      <td>male</td>\n",
       "      <td>22.0</td>\n",
       "      <td>1</td>\n",
       "      <td>0</td>\n",
       "      <td>A/5 21171</td>\n",
       "      <td>7.2500</td>\n",
       "      <td>NaN</td>\n",
       "      <td>S</td>\n",
       "    </tr>\n",
       "    <tr>\n",
       "      <th>Cumings, Mrs. John Bradley (Florence Briggs Thayer)</th>\n",
       "      <td>2</td>\n",
       "      <td>1</td>\n",
       "      <td>1</td>\n",
       "      <td>female</td>\n",
       "      <td>38.0</td>\n",
       "      <td>1</td>\n",
       "      <td>0</td>\n",
       "      <td>PC 17599</td>\n",
       "      <td>71.2833</td>\n",
       "      <td>C85</td>\n",
       "      <td>C</td>\n",
       "    </tr>\n",
       "    <tr>\n",
       "      <th>Heikkinen, Miss Laina</th>\n",
       "      <td>3</td>\n",
       "      <td>1</td>\n",
       "      <td>3</td>\n",
       "      <td>female</td>\n",
       "      <td>26.0</td>\n",
       "      <td>0</td>\n",
       "      <td>0</td>\n",
       "      <td>STON/O2. 3101282</td>\n",
       "      <td>7.9250</td>\n",
       "      <td>NaN</td>\n",
       "      <td>S</td>\n",
       "    </tr>\n",
       "    <tr>\n",
       "      <th>Futrelle, Mrs. Jacques Heath (Lily May Peel)</th>\n",
       "      <td>4</td>\n",
       "      <td>1</td>\n",
       "      <td>1</td>\n",
       "      <td>female</td>\n",
       "      <td>35.0</td>\n",
       "      <td>1</td>\n",
       "      <td>0</td>\n",
       "      <td>113803</td>\n",
       "      <td>53.1000</td>\n",
       "      <td>C123</td>\n",
       "      <td>S</td>\n",
       "    </tr>\n",
       "    <tr>\n",
       "      <th>Allen, Mr. William Henry</th>\n",
       "      <td>5</td>\n",
       "      <td>0</td>\n",
       "      <td>3</td>\n",
       "      <td>male</td>\n",
       "      <td>35.0</td>\n",
       "      <td>0</td>\n",
       "      <td>0</td>\n",
       "      <td>373450</td>\n",
       "      <td>8.0500</td>\n",
       "      <td>NaN</td>\n",
       "      <td>S</td>\n",
       "    </tr>\n",
       "  </tbody>\n",
       "</table>\n",
       "</div>"
      ],
      "text/plain": [
       "                                                    PassengerId  Survived  \\\n",
       "Name                                                                        \n",
       "Braund, Mr. Owen Harris                                       1         0   \n",
       "Cumings, Mrs. John Bradley (Florence Briggs Tha...            2         1   \n",
       "Heikkinen, Miss Laina                                         3         1   \n",
       "Futrelle, Mrs. Jacques Heath (Lily May Peel)                  4         1   \n",
       "Allen, Mr. William Henry                                      5         0   \n",
       "\n",
       "                                                    Pclass     Sex   Age  \\\n",
       "Name                                                                       \n",
       "Braund, Mr. Owen Harris                                  3    male  22.0   \n",
       "Cumings, Mrs. John Bradley (Florence Briggs Tha...       1  female  38.0   \n",
       "Heikkinen, Miss Laina                                    3  female  26.0   \n",
       "Futrelle, Mrs. Jacques Heath (Lily May Peel)             1  female  35.0   \n",
       "Allen, Mr. William Henry                                 3    male  35.0   \n",
       "\n",
       "                                                    SibSp  Parch  \\\n",
       "Name                                                               \n",
       "Braund, Mr. Owen Harris                                 1      0   \n",
       "Cumings, Mrs. John Bradley (Florence Briggs Tha...      1      0   \n",
       "Heikkinen, Miss Laina                                   0      0   \n",
       "Futrelle, Mrs. Jacques Heath (Lily May Peel)            1      0   \n",
       "Allen, Mr. William Henry                                0      0   \n",
       "\n",
       "                                                              Ticket     Fare  \\\n",
       "Name                                                                            \n",
       "Braund, Mr. Owen Harris                                    A/5 21171   7.2500   \n",
       "Cumings, Mrs. John Bradley (Florence Briggs Tha...          PC 17599  71.2833   \n",
       "Heikkinen, Miss Laina                               STON/O2. 3101282   7.9250   \n",
       "Futrelle, Mrs. Jacques Heath (Lily May Peel)                  113803  53.1000   \n",
       "Allen, Mr. William Henry                                      373450   8.0500   \n",
       "\n",
       "                                                   Cabin Embarked  \n",
       "Name                                                               \n",
       "Braund, Mr. Owen Harris                              NaN        S  \n",
       "Cumings, Mrs. John Bradley (Florence Briggs Tha...   C85        C  \n",
       "Heikkinen, Miss Laina                                NaN        S  \n",
       "Futrelle, Mrs. Jacques Heath (Lily May Peel)        C123        S  \n",
       "Allen, Mr. William Henry                             NaN        S  "
      ]
     },
     "execution_count": 21,
     "metadata": {},
     "output_type": "execute_result"
    }
   ],
   "source": [
    "# print the first 5 lines of the dataframe\n",
    "\n",
    "titanic.head()"
   ]
  },
  {
   "cell_type": "code",
   "execution_count": 22,
   "id": "62b37dbc-524c-42a2-a883-bfb83897ed33",
   "metadata": {
    "tags": []
   },
   "outputs": [
    {
     "data": {
      "text/html": [
       "<div>\n",
       "<style scoped>\n",
       "    .dataframe tbody tr th:only-of-type {\n",
       "        vertical-align: middle;\n",
       "    }\n",
       "\n",
       "    .dataframe tbody tr th {\n",
       "        vertical-align: top;\n",
       "    }\n",
       "\n",
       "    .dataframe thead th {\n",
       "        text-align: right;\n",
       "    }\n",
       "</style>\n",
       "<table border=\"1\" class=\"dataframe\">\n",
       "  <thead>\n",
       "    <tr style=\"text-align: right;\">\n",
       "      <th></th>\n",
       "      <th>PassengerId</th>\n",
       "      <th>Survived</th>\n",
       "      <th>Pclass</th>\n",
       "      <th>Age</th>\n",
       "      <th>SibSp</th>\n",
       "      <th>Parch</th>\n",
       "      <th>Fare</th>\n",
       "    </tr>\n",
       "  </thead>\n",
       "  <tbody>\n",
       "    <tr>\n",
       "      <th>count</th>\n",
       "      <td>891.000000</td>\n",
       "      <td>891.000000</td>\n",
       "      <td>891.000000</td>\n",
       "      <td>714.000000</td>\n",
       "      <td>891.000000</td>\n",
       "      <td>891.000000</td>\n",
       "      <td>891.000000</td>\n",
       "    </tr>\n",
       "    <tr>\n",
       "      <th>mean</th>\n",
       "      <td>446.000000</td>\n",
       "      <td>0.383838</td>\n",
       "      <td>2.308642</td>\n",
       "      <td>29.699118</td>\n",
       "      <td>0.523008</td>\n",
       "      <td>0.381594</td>\n",
       "      <td>32.204208</td>\n",
       "    </tr>\n",
       "    <tr>\n",
       "      <th>std</th>\n",
       "      <td>257.353842</td>\n",
       "      <td>0.486592</td>\n",
       "      <td>0.836071</td>\n",
       "      <td>14.526497</td>\n",
       "      <td>1.102743</td>\n",
       "      <td>0.806057</td>\n",
       "      <td>49.693429</td>\n",
       "    </tr>\n",
       "    <tr>\n",
       "      <th>min</th>\n",
       "      <td>1.000000</td>\n",
       "      <td>0.000000</td>\n",
       "      <td>1.000000</td>\n",
       "      <td>0.420000</td>\n",
       "      <td>0.000000</td>\n",
       "      <td>0.000000</td>\n",
       "      <td>0.000000</td>\n",
       "    </tr>\n",
       "    <tr>\n",
       "      <th>25%</th>\n",
       "      <td>223.500000</td>\n",
       "      <td>0.000000</td>\n",
       "      <td>2.000000</td>\n",
       "      <td>20.125000</td>\n",
       "      <td>0.000000</td>\n",
       "      <td>0.000000</td>\n",
       "      <td>7.910400</td>\n",
       "    </tr>\n",
       "    <tr>\n",
       "      <th>50%</th>\n",
       "      <td>446.000000</td>\n",
       "      <td>0.000000</td>\n",
       "      <td>3.000000</td>\n",
       "      <td>28.000000</td>\n",
       "      <td>0.000000</td>\n",
       "      <td>0.000000</td>\n",
       "      <td>14.454200</td>\n",
       "    </tr>\n",
       "    <tr>\n",
       "      <th>75%</th>\n",
       "      <td>668.500000</td>\n",
       "      <td>1.000000</td>\n",
       "      <td>3.000000</td>\n",
       "      <td>38.000000</td>\n",
       "      <td>1.000000</td>\n",
       "      <td>0.000000</td>\n",
       "      <td>31.000000</td>\n",
       "    </tr>\n",
       "    <tr>\n",
       "      <th>max</th>\n",
       "      <td>891.000000</td>\n",
       "      <td>1.000000</td>\n",
       "      <td>3.000000</td>\n",
       "      <td>80.000000</td>\n",
       "      <td>8.000000</td>\n",
       "      <td>6.000000</td>\n",
       "      <td>512.329200</td>\n",
       "    </tr>\n",
       "  </tbody>\n",
       "</table>\n",
       "</div>"
      ],
      "text/plain": [
       "       PassengerId    Survived      Pclass         Age       SibSp  \\\n",
       "count   891.000000  891.000000  891.000000  714.000000  891.000000   \n",
       "mean    446.000000    0.383838    2.308642   29.699118    0.523008   \n",
       "std     257.353842    0.486592    0.836071   14.526497    1.102743   \n",
       "min       1.000000    0.000000    1.000000    0.420000    0.000000   \n",
       "25%     223.500000    0.000000    2.000000   20.125000    0.000000   \n",
       "50%     446.000000    0.000000    3.000000   28.000000    0.000000   \n",
       "75%     668.500000    1.000000    3.000000   38.000000    1.000000   \n",
       "max     891.000000    1.000000    3.000000   80.000000    8.000000   \n",
       "\n",
       "            Parch        Fare  \n",
       "count  891.000000  891.000000  \n",
       "mean     0.381594   32.204208  \n",
       "std      0.806057   49.693429  \n",
       "min      0.000000    0.000000  \n",
       "25%      0.000000    7.910400  \n",
       "50%      0.000000   14.454200  \n",
       "75%      0.000000   31.000000  \n",
       "max      6.000000  512.329200  "
      ]
     },
     "execution_count": 22,
     "metadata": {},
     "output_type": "execute_result"
    }
   ],
   "source": [
    "# print summary statistics for each column\n",
    "\n",
    "titanic.describe()"
   ]
  },
  {
   "cell_type": "code",
   "execution_count": 23,
   "id": "6a46d590-bbef-45d7-92dc-1d9a533ed7a6",
   "metadata": {
    "tags": []
   },
   "outputs": [
    {
     "data": {
      "text/html": [
       "<div>\n",
       "<style scoped>\n",
       "    .dataframe tbody tr th:only-of-type {\n",
       "        vertical-align: middle;\n",
       "    }\n",
       "\n",
       "    .dataframe tbody tr th {\n",
       "        vertical-align: top;\n",
       "    }\n",
       "\n",
       "    .dataframe thead th {\n",
       "        text-align: right;\n",
       "    }\n",
       "</style>\n",
       "<table border=\"1\" class=\"dataframe\">\n",
       "  <thead>\n",
       "    <tr style=\"text-align: right;\">\n",
       "      <th></th>\n",
       "      <th></th>\n",
       "      <th>Age</th>\n",
       "      <th>Pclass</th>\n",
       "    </tr>\n",
       "    <tr>\n",
       "      <th>Survived</th>\n",
       "      <th>Sex</th>\n",
       "      <th></th>\n",
       "      <th></th>\n",
       "    </tr>\n",
       "  </thead>\n",
       "  <tbody>\n",
       "    <tr>\n",
       "      <th rowspan=\"2\" valign=\"top\">0</th>\n",
       "      <th>female</th>\n",
       "      <td>24.5</td>\n",
       "      <td>3.0</td>\n",
       "    </tr>\n",
       "    <tr>\n",
       "      <th>male</th>\n",
       "      <td>29.0</td>\n",
       "      <td>3.0</td>\n",
       "    </tr>\n",
       "    <tr>\n",
       "      <th rowspan=\"2\" valign=\"top\">1</th>\n",
       "      <th>female</th>\n",
       "      <td>28.0</td>\n",
       "      <td>2.0</td>\n",
       "    </tr>\n",
       "    <tr>\n",
       "      <th>male</th>\n",
       "      <td>28.0</td>\n",
       "      <td>2.0</td>\n",
       "    </tr>\n",
       "  </tbody>\n",
       "</table>\n",
       "</div>"
      ],
      "text/plain": [
       "                  Age  Pclass\n",
       "Survived Sex                 \n",
       "0        female  24.5     3.0\n",
       "         male    29.0     3.0\n",
       "1        female  28.0     2.0\n",
       "         male    28.0     2.0"
      ]
     },
     "execution_count": 23,
     "metadata": {},
     "output_type": "execute_result"
    }
   ],
   "source": [
    "titanic[[\"Age\", \"Sex\", \"Survived\", \"Pclass\"]].groupby([\"Survived\", \"Sex\"]).aggregate(\n",
    "    \"median\"\n",
    ")"
   ]
  },
  {
   "cell_type": "markdown",
   "id": "eb254fe5-6f18-4051-862e-f227900a0c0b",
   "metadata": {
    "tags": []
   },
   "source": [
    "### 2.3 Matplotlib"
   ]
  },
  {
   "cell_type": "markdown",
   "id": "109c6107-9fe9-4f1b-8f73-c7cf8567f26f",
   "metadata": {},
   "source": [
    "`Matplotlib` is a comprehensive library for creating static, animated, and interactive visualizations in Python."
   ]
  },
  {
   "cell_type": "markdown",
   "id": "05109d4f-ac98-4e95-b7d8-8e9c761fa7a5",
   "metadata": {
    "tags": []
   },
   "source": [
    "#### Visualization of the Titanic passenger data"
   ]
  },
  {
   "cell_type": "code",
   "execution_count": 24,
   "id": "ae24276b-9446-44cc-960b-53a6f253ddaf",
   "metadata": {
    "tags": []
   },
   "outputs": [
    {
     "data": {
      "text/plain": [
       "<matplotlib.legend.Legend at 0x7e0d3ffe0b20>"
      ]
     },
     "execution_count": 24,
     "metadata": {},
     "output_type": "execute_result"
    },
    {
     "data": {
      "image/png": "[encoded data removed]",
      "text/plain": [
       "<Figure size 900x600 with 1 Axes>"
      ]
     },
     "metadata": {},
     "output_type": "display_data"
    }
   ],
   "source": [
    "import matplotlib.pyplot as plt\n",
    "\n",
    "plt.figure(figsize=(9, 6))\n",
    "plt.hist(\n",
    "    [\n",
    "        titanic[titanic[\"Survived\"] == 1][\"Age\"],\n",
    "        titanic[titanic[\"Survived\"] == 0][\"Age\"],\n",
    "    ],\n",
    "    stacked=True,\n",
    "    bins=30,\n",
    "    label=[\"Survived\", \"Dead\"],\n",
    ")\n",
    "plt.xlabel(\"Age (in Years)\")\n",
    "plt.ylabel(\"Number of passengers on Titanic\")\n",
    "plt.legend()"
   ]
  },
  {
   "cell_type": "markdown",
   "id": "3f86f718-9f4f-4aa3-a9a8-1983f051c894",
   "metadata": {
    "tags": []
   },
   "source": [
    "# GPU Programming using Python"
   ]
  },
  {
   "cell_type": "markdown",
   "id": "6db510a0-d3e6-4864-8c27-e87386ed8ad1",
   "metadata": {
    "tags": []
   },
   "source": [
    "There are several options available to work with python for GPU programming.\n",
    "- [GPU Programming: When, Why and How?](https://enccs.github.io/gpu-programming/)\n",
    "- [GPU Programming (Carpentries)](https://arc.leeds.ac.uk/lesson-gpu-programming/)"
   ]
  },
  {
   "cell_type": "markdown",
   "id": "44193981-5339-405c-a4b8-d6e679f531ea",
   "metadata": {
    "tags": []
   },
   "source": [
    "## 1. **`cuDF`** and **`cuML`** libraries in ![RAPIDS](img/RAPIDS-logo.png)"
   ]
  },
  {
   "attachments": {},
   "cell_type": "markdown",
   "id": "aedb46c8-5d82-4d11-8f8e-9297721623b8",
   "metadata": {
    "jp-MarkdownHeadingCollapsed": true,
    "tags": []
   },
   "source": [
    ":::{important} [RAPIDS](https://rapids.ai/) is a high-level package collection\n",
    "\n",
    "It implements CUDA functionalities and API with Python bindings.\n",
    "\n",
    "**It only supports NVIDIA GPUs.**\n",
    "\n",
    "- **`cuDF`** is the dataframe library for manipulating tabular datasets using GPU. cuDF provides a **Pandas**-like API for loading, joining, aggregating, filtering, and manipulating data.\n",
    "- **`cuML`** is a suite of libraries that implement algorithms and mathematical primitives functions to train machine learning models on your data to make predictions, similar to the **`scikit-learn`** API.\n",
    "\n",
    ":::"
   ]
  },
  {
   "cell_type": "markdown",
   "id": "2fb16ef6-4141-4aad-9f07-22ca6ee7506b",
   "metadata": {},
   "source": [
    "### 1.1 Timing the Titanic"
   ]
  },
  {
   "cell_type": "code",
   "execution_count": 25,
   "id": "dab14ab7-fc4b-4fdb-a828-4081f45295a4",
   "metadata": {},
   "outputs": [
    {
     "name": "stdout",
     "output_type": "stream",
     "text": [
      "1.01 ms ± 22.6 μs per loop (mean ± std. dev. of 7 runs, 1,000 loops each)\n"
     ]
    }
   ],
   "source": [
    "%timeit titanic[[\"Age\", \"Sex\", \"Survived\", \"Pclass\"]].groupby([\"Survived\", \"Sex\"]).aggregate(\"mean\")"
   ]
  },
  {
   "cell_type": "code",
   "execution_count": 26,
   "id": "f0bd6809-5b1c-4172-be70-aeb46de816ae",
   "metadata": {},
   "outputs": [],
   "source": [
    "import cudf\n",
    "\n",
    "url = \"https://raw.githubusercontent.com/pandas-dev/pandas/master/doc/data/titanic.csv\"\n",
    "titanic_gpu = cudf.read_csv(url, index_col=\"Name\")"
   ]
  },
  {
   "cell_type": "code",
   "execution_count": 27,
   "id": "f64c024b-59b3-4df5-a2e6-cc2e1f59744d",
   "metadata": {},
   "outputs": [
    {
     "name": "stdout",
     "output_type": "stream",
     "text": [
      "1.95 ms ± 22.7 μs per loop (mean ± std. dev. of 7 runs, 1,000 loops each)\n"
     ]
    }
   ],
   "source": [
    "%timeit titanic_gpu[[\"Age\", \"Sex\", \"Survived\", \"Pclass\"]].groupby([\"Survived\", \"Sex\"]).aggregate(\"mean\")"
   ]
  },
  {
   "cell_type": "markdown",
   "id": "59ae0fec-5801-4996-9e6a-a91e035cc70c",
   "metadata": {
    "user_expressions": [
     {
      "expression": "titanic.memory_usage().sum() / 1024",
      "result": {
       "ename": "NameError",
       "evalue": "name 'titanic' is not defined",
       "status": "error",
       "traceback": [
        "\u001b[0;31mNameError\u001b[0m\u001b[0;31m:\u001b[0m name 'titanic' is not defined\n"
       ]
      }
     }
    ]
   },
   "source": [
    ":::{hint} GPU version was slower. Why?\n",
    "\n",
    "1. The size of the data needs to be justifiably big for a GPU to be more performant than a CPU. The data is only {eval}`titanic.memory_usage().sum() / 1024` KB big.\n",
    "2. Aggregation cannot be efficiently parallized\n",
    ":::"
   ]
  },
  {
   "cell_type": "markdown",
   "id": "1d3f52fb-1841-414d-ad5a-16d498602085",
   "metadata": {},
   "source": [
    "### 1.2 Timing the Taxis"
   ]
  },
  {
   "cell_type": "markdown",
   "id": "e6f7d26d-f3c0-4d45-9951-f226477d1770",
   "metadata": {},
   "source": [
    "Lets try to analyze NYC taxi data from <https://www.nyc.gov/site/tlc/about/tlc-trip-record-data.page> to compute median trip duration.\n",
    "\n",
    "Dictionary of the data: <https://www.nyc.gov/assets/tlc/downloads/pdf/data_dictionary_trip_records_yellow.pdf>"
   ]
  },
  {
   "cell_type": "code",
   "execution_count": 28,
   "id": "c0f478c7-3398-4787-9b81-a29457e18823",
   "metadata": {},
   "outputs": [
    {
     "data": {
      "text/html": [
       "<div>\n",
       "<style scoped>\n",
       "    .dataframe tbody tr th:only-of-type {\n",
       "        vertical-align: middle;\n",
       "    }\n",
       "\n",
       "    .dataframe tbody tr th {\n",
       "        vertical-align: top;\n",
       "    }\n",
       "\n",
       "    .dataframe thead th {\n",
       "        text-align: right;\n",
       "    }\n",
       "</style>\n",
       "<table border=\"1\" class=\"dataframe\">\n",
       "  <thead>\n",
       "    <tr style=\"text-align: right;\">\n",
       "      <th></th>\n",
       "      <th>VendorID</th>\n",
       "      <th>tpep_pickup_datetime</th>\n",
       "      <th>tpep_dropoff_datetime</th>\n",
       "      <th>passenger_count</th>\n",
       "      <th>trip_distance</th>\n",
       "      <th>RatecodeID</th>\n",
       "      <th>store_and_fwd_flag</th>\n",
       "      <th>PULocationID</th>\n",
       "      <th>DOLocationID</th>\n",
       "      <th>payment_type</th>\n",
       "      <th>fare_amount</th>\n",
       "      <th>extra</th>\n",
       "      <th>mta_tax</th>\n",
       "      <th>tip_amount</th>\n",
       "      <th>tolls_amount</th>\n",
       "      <th>improvement_surcharge</th>\n",
       "      <th>total_amount</th>\n",
       "      <th>congestion_surcharge</th>\n",
       "      <th>Airport_fee</th>\n",
       "    </tr>\n",
       "  </thead>\n",
       "  <tbody>\n",
       "    <tr>\n",
       "      <th>0</th>\n",
       "      <td>1</td>\n",
       "      <td>2024-07-01 00:34:56</td>\n",
       "      <td>2024-07-01 00:46:49</td>\n",
       "      <td>1.0</td>\n",
       "      <td>3.20</td>\n",
       "      <td>1.0</td>\n",
       "      <td>N</td>\n",
       "      <td>140</td>\n",
       "      <td>79</td>\n",
       "      <td>1</td>\n",
       "      <td>15.6</td>\n",
       "      <td>3.50</td>\n",
       "      <td>0.5</td>\n",
       "      <td>3.50</td>\n",
       "      <td>0.00</td>\n",
       "      <td>1.0</td>\n",
       "      <td>24.10</td>\n",
       "      <td>2.5</td>\n",
       "      <td>0.00</td>\n",
       "    </tr>\n",
       "    <tr>\n",
       "      <th>1</th>\n",
       "      <td>2</td>\n",
       "      <td>2024-06-30 23:48:58</td>\n",
       "      <td>2024-07-01 00:28:04</td>\n",
       "      <td>1.0</td>\n",
       "      <td>19.48</td>\n",
       "      <td>2.0</td>\n",
       "      <td>N</td>\n",
       "      <td>132</td>\n",
       "      <td>113</td>\n",
       "      <td>2</td>\n",
       "      <td>70.0</td>\n",
       "      <td>0.00</td>\n",
       "      <td>0.5</td>\n",
       "      <td>0.00</td>\n",
       "      <td>0.00</td>\n",
       "      <td>1.0</td>\n",
       "      <td>75.75</td>\n",
       "      <td>2.5</td>\n",
       "      <td>1.75</td>\n",
       "    </tr>\n",
       "    <tr>\n",
       "      <th>2</th>\n",
       "      <td>2</td>\n",
       "      <td>2024-07-01 00:23:18</td>\n",
       "      <td>2024-07-01 00:29:51</td>\n",
       "      <td>1.0</td>\n",
       "      <td>1.18</td>\n",
       "      <td>1.0</td>\n",
       "      <td>N</td>\n",
       "      <td>237</td>\n",
       "      <td>145</td>\n",
       "      <td>1</td>\n",
       "      <td>8.6</td>\n",
       "      <td>1.00</td>\n",
       "      <td>0.5</td>\n",
       "      <td>2.72</td>\n",
       "      <td>0.00</td>\n",
       "      <td>1.0</td>\n",
       "      <td>16.32</td>\n",
       "      <td>2.5</td>\n",
       "      <td>0.00</td>\n",
       "    </tr>\n",
       "    <tr>\n",
       "      <th>3</th>\n",
       "      <td>1</td>\n",
       "      <td>2024-07-01 00:10:33</td>\n",
       "      <td>2024-07-01 00:27:31</td>\n",
       "      <td>0.0</td>\n",
       "      <td>9.10</td>\n",
       "      <td>1.0</td>\n",
       "      <td>N</td>\n",
       "      <td>138</td>\n",
       "      <td>164</td>\n",
       "      <td>1</td>\n",
       "      <td>36.6</td>\n",
       "      <td>10.25</td>\n",
       "      <td>0.5</td>\n",
       "      <td>12.05</td>\n",
       "      <td>0.00</td>\n",
       "      <td>1.0</td>\n",
       "      <td>60.40</td>\n",
       "      <td>2.5</td>\n",
       "      <td>1.75</td>\n",
       "    </tr>\n",
       "    <tr>\n",
       "      <th>4</th>\n",
       "      <td>1</td>\n",
       "      <td>2024-07-01 00:07:55</td>\n",
       "      <td>2024-07-01 00:34:34</td>\n",
       "      <td>1.0</td>\n",
       "      <td>17.70</td>\n",
       "      <td>2.0</td>\n",
       "      <td>N</td>\n",
       "      <td>132</td>\n",
       "      <td>263</td>\n",
       "      <td>1</td>\n",
       "      <td>70.0</td>\n",
       "      <td>1.75</td>\n",
       "      <td>0.5</td>\n",
       "      <td>10.00</td>\n",
       "      <td>6.94</td>\n",
       "      <td>1.0</td>\n",
       "      <td>90.19</td>\n",
       "      <td>0.0</td>\n",
       "      <td>1.75</td>\n",
       "    </tr>\n",
       "  </tbody>\n",
       "</table>\n",
       "</div>"
      ],
      "text/plain": [
       "   VendorID tpep_pickup_datetime tpep_dropoff_datetime  passenger_count  \\\n",
       "0         1  2024-07-01 00:34:56   2024-07-01 00:46:49              1.0   \n",
       "1         2  2024-06-30 23:48:58   2024-07-01 00:28:04              1.0   \n",
       "2         2  2024-07-01 00:23:18   2024-07-01 00:29:51              1.0   \n",
       "3         1  2024-07-01 00:10:33   2024-07-01 00:27:31              0.0   \n",
       "4         1  2024-07-01 00:07:55   2024-07-01 00:34:34              1.0   \n",
       "\n",
       "   trip_distance  RatecodeID store_and_fwd_flag  PULocationID  DOLocationID  \\\n",
       "0           3.20         1.0                  N           140            79   \n",
       "1          19.48         2.0                  N           132           113   \n",
       "2           1.18         1.0                  N           237           145   \n",
       "3           9.10         1.0                  N           138           164   \n",
       "4          17.70         2.0                  N           132           263   \n",
       "\n",
       "   payment_type  fare_amount  extra  mta_tax  tip_amount  tolls_amount  \\\n",
       "0             1         15.6   3.50      0.5        3.50          0.00   \n",
       "1             2         70.0   0.00      0.5        0.00          0.00   \n",
       "2             1          8.6   1.00      0.5        2.72          0.00   \n",
       "3             1         36.6  10.25      0.5       12.05          0.00   \n",
       "4             1         70.0   1.75      0.5       10.00          6.94   \n",
       "\n",
       "   improvement_surcharge  total_amount  congestion_surcharge  Airport_fee  \n",
       "0                    1.0         24.10                   2.5         0.00  \n",
       "1                    1.0         75.75                   2.5         1.75  \n",
       "2                    1.0         16.32                   2.5         0.00  \n",
       "3                    1.0         60.40                   2.5         1.75  \n",
       "4                    1.0         90.19                   0.0         1.75  "
      ]
     },
     "execution_count": 28,
     "metadata": {},
     "output_type": "execute_result"
    }
   ],
   "source": [
    "import pandas as pd\n",
    "\n",
    "trips = pd.read_parquet(\"./yellow_tripdata_2024-07.parquet\")\n",
    "trips.head()"
   ]
  },
  {
   "cell_type": "code",
   "execution_count": 29,
   "id": "55597c2d-7c35-4861-89d7-cd8885fe197e",
   "metadata": {},
   "outputs": [
    {
     "data": {
      "text/plain": [
       "(3076903, 19)"
      ]
     },
     "execution_count": 29,
     "metadata": {},
     "output_type": "execute_result"
    }
   ],
   "source": [
    "trips.shape"
   ]
  },
  {
   "cell_type": "code",
   "execution_count": 30,
   "id": "3a31f54f-7903-4967-af3f-beb209dc1fad",
   "metadata": {},
   "outputs": [
    {
     "name": "stdout",
     "output_type": "stream",
     "text": [
      "31.8 ms ± 482 μs per loop (mean ± std. dev. of 7 runs, 10 loops each)\n"
     ]
    }
   ],
   "source": [
    "time_duration = %timeit -o (trips.tpep_dropoff_datetime - trips.tpep_pickup_datetime).mean()"
   ]
  },
  {
   "cell_type": "code",
   "execution_count": 31,
   "id": "0ee85fdf-8324-4e53-9e6b-8628b8802677",
   "metadata": {},
   "outputs": [],
   "source": [
    "import cudf\n",
    "\n",
    "trips_gpu = cudf.read_parquet(\"./yellow_tripdata_2024-07.parquet\")"
   ]
  },
  {
   "cell_type": "code",
   "execution_count": 32,
   "id": "2370723f-e225-4740-93b7-ae36cd8ab936",
   "metadata": {},
   "outputs": [
    {
     "name": "stdout",
     "output_type": "stream",
     "text": [
      "1.88 ms ± 4.73 μs per loop (mean ± std. dev. of 7 runs, 1,000 loops each)\n"
     ]
    }
   ],
   "source": [
    "time_duration_gpu = %timeit -o (trips_gpu.tpep_dropoff_datetime - trips_gpu.tpep_pickup_datetime).mean()"
   ]
  },
  {
   "cell_type": "markdown",
   "id": "e5fc9c9f-ef21-4f5a-a837-00024cd94d6a",
   "metadata": {},
   "source": [
    "**How about an aggregate operation as before?**"
   ]
  },
  {
   "cell_type": "code",
   "execution_count": 33,
   "id": "f681de39-b4e9-4d3e-858a-1778fb673f4c",
   "metadata": {},
   "outputs": [
    {
     "name": "stdout",
     "output_type": "stream",
     "text": [
      "67.8 ms ± 621 μs per loop (mean ± std. dev. of 7 runs, 10 loops each)\n"
     ]
    }
   ],
   "source": [
    "time_agg = %timeit -o trips[[\"passenger_count\", \"trip_distance\", \"RatecodeID\", \"total_amount\"]].groupby([\"RatecodeID\"]).aggregate(\"mean\")"
   ]
  },
  {
   "cell_type": "code",
   "execution_count": 34,
   "id": "15367541-3768-4d72-b43d-3213063b6bd5",
   "metadata": {},
   "outputs": [
    {
     "name": "stdout",
     "output_type": "stream",
     "text": [
      "14.6 ms ± 75.2 μs per loop (mean ± std. dev. of 7 runs, 100 loops each)\n"
     ]
    }
   ],
   "source": [
    "time_agg_gpu = %timeit -o trips_gpu[[\"passenger_count\", \"trip_distance\", \"RatecodeID\", \"total_amount\"]].groupby([\"RatecodeID\"]).aggregate(\"mean\")"
   ]
  },
  {
   "cell_type": "code",
   "execution_count": 35,
   "id": "deaa4227-5040-42a9-8cf6-c78d51df5793",
   "metadata": {},
   "outputs": [
    {
     "data": {
      "image/png": "[encoded data removed]",
      "text/plain": [
       "<Figure size 800x400 with 1 Axes>"
      ]
     },
     "metadata": {},
     "output_type": "display_data"
    }
   ],
   "source": [
    "display_timings(\n",
    "    aggregate=time_agg,\n",
    "    aggregate_gpu=time_agg_gpu,\n",
    "    trip_duration=time_duration,\n",
    "    trip_duration_gpu=time_duration_gpu,\n",
    ")"
   ]
  },
  {
   "cell_type": "markdown",
   "id": "eefd8e1b-0484-4724-bac3-6c012994e3c0",
   "metadata": {
    "user_expressions": [
     {
      "expression": "trips.memory_usage().sum() / 1024**2",
      "result": {
       "ename": "NameError",
       "evalue": "name 'trips' is not defined",
       "status": "error",
       "traceback": [
        "\u001b[0;31mNameError\u001b[0m\u001b[0;31m:\u001b[0m name 'trips' is not defined\n"
       ]
      }
     }
    ]
   },
   "source": [
    ":::{hint} Now, the GPU version was faster. Why?\n",
    "\n",
    "1. The data for NYC Yellow taxis is {eval}`trips.memory_usage().sum() / 1024**2` **MB** big which is a moderately big dataset.\n",
    "2. Even for the aggregate method, we see a modest performance gain.\n",
    ":::"
   ]
  },
  {
   "cell_type": "code",
   "execution_count": 36,
   "id": "f57883fb-bf05-4222-a963-4ba133a9c061",
   "metadata": {},
   "outputs": [],
   "source": [
    "del titanic, titanic_gpu, trips, trips_gpu"
   ]
  },
  {
   "cell_type": "code",
   "execution_count": 37,
   "id": "44c15c2d-211c-48e2-a6c2-603f10f63c67",
   "metadata": {},
   "outputs": [
    {
     "data": {
      "text/plain": [
       "8553"
      ]
     },
     "execution_count": 37,
     "metadata": {},
     "output_type": "execute_result"
    }
   ],
   "source": [
    "import gc\n",
    "gc.collect()"
   ]
  },
  {
   "cell_type": "markdown",
   "id": "2c38f731-22fd-43f8-b527-a9458091b77a",
   "metadata": {
    "tags": []
   },
   "source": [
    "## 2. Numba"
   ]
  },
  {
   "cell_type": "markdown",
   "id": "216688a2-4cf2-4afd-b0c8-97e9c774a548",
   "metadata": {},
   "source": [
    ":::{important} `Numba` is an open-source just-in-time (JIT) compiler\n",
    "\n",
    "- It translates a subset of Python and NumPy into fast machine code using LLVM.\n",
    "- `Numba` offers options for parallelising Python code for CPUs and GPUs, with minor code changes.\n",
    ":::"
   ]
  },
  {
   "cell_type": "markdown",
   "id": "6d8dc43d-04d4-44d7-b823-ff6e9e55161f",
   "metadata": {
    "tags": []
   },
   "source": [
    "### 2.1 `numba.jit()` decorator"
   ]
  },
  {
   "cell_type": "markdown",
   "id": "4be56abb-717a-422a-805f-cf82b9bc6170",
   "metadata": {},
   "source": [
    "Numba provides several utilities for code generation, and its central feature is the `numba.jit()` decorator."
   ]
  },
  {
   "cell_type": "code",
   "execution_count": 38,
   "id": "480e4a76-9f9e-4fc0-97d7-cac700faa4a4",
   "metadata": {
    "tags": []
   },
   "outputs": [
    {
     "name": "stdout",
     "output_type": "stream",
     "text": [
      "75.9 μs ± 1.54 μs per loop (mean ± std. dev. of 7 runs, 10,000 loops each)\n"
     ]
    }
   ],
   "source": [
    "import numpy as np\n",
    "\n",
    "mx = np.arange(10000).reshape(100, 100)\n",
    "\n",
    "\n",
    "def go_slow(a):  # Function is compiled and runs in machine code\n",
    "    result = 0.0\n",
    "    for i in range(a.shape[0]):\n",
    "        result += np.sin(a[i, i])\n",
    "    return result\n",
    "\n",
    "\n",
    "time_slow = %timeit -o go_slow(mx)"
   ]
  },
  {
   "cell_type": "code",
   "execution_count": 39,
   "id": "55dc71d6-a839-4046-8fc7-d50106e6e38f",
   "metadata": {
    "tags": []
   },
   "outputs": [
    {
     "name": "stdout",
     "output_type": "stream",
     "text": [
      "2.02 μs ± 37.2 ns per loop (mean ± std. dev. of 7 runs, 100,000 loops each)\n"
     ]
    }
   ],
   "source": [
    "from numba import jit\n",
    "\n",
    "\n",
    "@jit(nopython=True)\n",
    "def go_fast(a):\n",
    "    result = 0.0\n",
    "    for i in range(a.shape[0]):\n",
    "        result += np.sin(a[i, i])\n",
    "    return result\n",
    "\n",
    "\n",
    "time_fast = %timeit -o go_fast(mx)"
   ]
  },
  {
   "cell_type": "code",
   "execution_count": 40,
   "id": "719a37ab-6f3b-4a7a-b6f2-0d73770d70fd",
   "metadata": {},
   "outputs": [
    {
     "data": {
      "image/png": "[encoded data removed]",
      "text/plain": [
       "<Figure size 800x200 with 1 Axes>"
      ]
     },
     "metadata": {},
     "output_type": "display_data"
    }
   ],
   "source": [
    "display_timings(go_slow=time_slow, go_fast=time_fast)"
   ]
  },
  {
   "cell_type": "markdown",
   "id": "e51dc921-49e6-4b65-ba2a-15bfaade47ee",
   "metadata": {
    "tags": []
   },
   "source": [
    "### 2.2 `ufunc` and `gufunc`"
   ]
  },
  {
   "cell_type": "markdown",
   "id": "9e26f85d-ef37-4660-964a-0dac2ece4710",
   "metadata": {},
   "source": [
    "Another feature of Numba is to generate NumPy universal functions.\n",
    "\n",
    "There are two types of universal functions:\n",
    "- Those which operate on scalars are “universal functions” (`ufunc`), which are achieved via `@vectorize` decorator\n",
    "- Those which operate on higher dimensional arrays and scalars are “generalized universal functions” (`gufunc`), which are achived via `@guvectorize` decorator"
   ]
  },
  {
   "cell_type": "code",
   "execution_count": 41,
   "id": "e6807c5c-9d1d-4bf8-9793-55f45e9ae33d",
   "metadata": {
    "tags": []
   },
   "outputs": [],
   "source": [
    "import math\n",
    "import numpy as np\n",
    "import numba\n",
    "\n",
    "\n",
    "# a simple version without using numba\n",
    "def func_cpu(x, y):\n",
    "    return math.pow(x, 3.0) + 4 * math.sin(y)\n",
    "\n",
    "\n",
    "@np.vectorize(otypes=[float])\n",
    "def func_numpy_cpu(x, y):\n",
    "    return math.pow(x, 3.0) + 4 * math.sin(y)\n",
    "\n",
    "\n",
    "# def func_numpy(x, y):\n",
    "#     return np.pow(x, 3.0) + 4 * np.sin(y)\n",
    "\n",
    "\n",
    "@numba.vectorize([numba.float64(numba.float64, numba.float64)], target=\"cpu\")\n",
    "def func_numba_cpu(x, y):\n",
    "    return math.pow(x, 3.0) + 4 * math.sin(y)\n",
    "\n",
    "\n",
    "@numba.vectorize([numba.float64(numba.float64, numba.float64)], target=\"cuda\")\n",
    "def func_numba_gpu(x, y):\n",
    "    return math.pow(x, 3.0) + 4 * math.sin(y)"
   ]
  },
  {
   "cell_type": "markdown",
   "id": "c69049a8-666e-4ca6-9fbc-7ac03f594e9a",
   "metadata": {},
   "source": [
    ":::{note}\n",
    "The commented-out variant `func_numpy` which uses numpy functions (`np.pow` and `np.sin`) would automatically vectorize and perform little better than the first two -  making it a better formulation for the purpose. \n",
    "**We don't do that here to illustrate vectorized functions which may be required for custom algorithms**.\n",
    ":::"
   ]
  },
  {
   "cell_type": "code",
   "execution_count": 42,
   "id": "2ccc430e-1d26-4d78-840a-c3648ff84d13",
   "metadata": {
    "tags": []
   },
   "outputs": [],
   "source": [
    "N = 10000000\n",
    "mx = np.random.rand(N)\n",
    "result = np.empty_like(mx)"
   ]
  },
  {
   "cell_type": "code",
   "execution_count": 43,
   "id": "14c07e5c-6390-4734-a73e-5cb471b39e83",
   "metadata": {
    "tags": []
   },
   "outputs": [
    {
     "data": {
      "text/plain": [
       "<TimeitResult : 3.24 s ± 0 ns per loop (mean ± std. dev. of 1 run, 1 loop each)>"
      ]
     },
     "execution_count": 43,
     "metadata": {},
     "output_type": "execute_result"
    }
   ],
   "source": [
    "%%timeit -r 1 -q -o\n",
    "for i in range(N):\n",
    "    result[i] = func_cpu(mx[i], mx[i])"
   ]
  },
  {
   "cell_type": "code",
   "execution_count": 44,
   "id": "a7a9336e-19d3-4e3b-8233-1ccd47cc57cc",
   "metadata": {},
   "outputs": [],
   "source": [
    "time_cpu = _"
   ]
  },
  {
   "cell_type": "code",
   "execution_count": 45,
   "id": "d1eb94dd-9f41-4a2b-bafc-4bcf0402f28e",
   "metadata": {
    "tags": []
   },
   "outputs": [
    {
     "data": {
      "text/plain": [
       "<TimeitResult : 2.42 s ± 207 ms per loop (mean ± std. dev. of 7 runs, 1 loop each)>"
      ]
     },
     "execution_count": 45,
     "metadata": {},
     "output_type": "execute_result"
    }
   ],
   "source": [
    "%timeit -q -o result_numpy_cpu = func_numpy_cpu(mx, mx)"
   ]
  },
  {
   "cell_type": "code",
   "execution_count": 46,
   "id": "061c26d4-d386-443d-b5a2-3545109c0677",
   "metadata": {},
   "outputs": [],
   "source": [
    "time_numpy_cpu = _"
   ]
  },
  {
   "cell_type": "code",
   "execution_count": 47,
   "id": "1d261a46-8853-4a42-a800-e1ecc4e3c972",
   "metadata": {
    "tags": []
   },
   "outputs": [
    {
     "data": {
      "text/plain": [
       "<TimeitResult : 180 ms ± 6.15 ms per loop (mean ± std. dev. of 7 runs, 1 loop each)>"
      ]
     },
     "execution_count": 47,
     "metadata": {},
     "output_type": "execute_result"
    }
   ],
   "source": [
    "%timeit -q -o result_numba_cpu = func_numba_cpu(mx, mx)"
   ]
  },
  {
   "cell_type": "code",
   "execution_count": 48,
   "id": "d914f891-f524-4421-87b4-bed6bc0042b0",
   "metadata": {},
   "outputs": [],
   "source": [
    "time_numba_cpu = _"
   ]
  },
  {
   "cell_type": "code",
   "execution_count": 49,
   "id": "7052449a-2dd1-412e-8eeb-69311100a0cf",
   "metadata": {
    "tags": []
   },
   "outputs": [
    {
     "data": {
      "text/plain": [
       "<TimeitResult : 73.9 ms ± 709 μs per loop (mean ± std. dev. of 7 runs, 10 loops each)>"
      ]
     },
     "execution_count": 49,
     "metadata": {},
     "output_type": "execute_result"
    }
   ],
   "source": [
    "%timeit -q -o result = func_numba_gpu(mx, mx)"
   ]
  },
  {
   "cell_type": "code",
   "execution_count": 50,
   "id": "bb2c5c64-01ee-4bdb-80e3-25bf850c832f",
   "metadata": {},
   "outputs": [],
   "source": [
    "time_numba_gpu = _"
   ]
  },
  {
   "cell_type": "code",
   "execution_count": 51,
   "id": "c83d4821-6e55-43e6-815d-f662bf0dc3b0",
   "metadata": {},
   "outputs": [
    {
     "data": {
      "image/png": "[encoded data removed]",
      "text/plain": [
       "<Figure size 800x400 with 1 Axes>"
      ]
     },
     "metadata": {},
     "output_type": "display_data"
    }
   ],
   "source": [
    "display_timings(\n",
    "    cpu=time_cpu,\n",
    "    numpy_cpu=time_numpy_cpu,\n",
    "    numba_cpu=time_numba_cpu,\n",
    "    numba_gpu=time_numba_gpu,\n",
    ")"
   ]
  },
  {
   "cell_type": "markdown",
   "id": "1c0f091c-abf7-4c3f-a6f5-6295cb7fd79e",
   "metadata": {
    "tags": []
   },
   "source": [
    ":::{note}\n",
    "- Using `ufunc` (or `gufunc`) for GPU programming may not always yield optimal performance due to automatic handling of data transfer and kernel launching.\n",
    "- In practical applications, not every function can be constructed as a `ufunc`.\n",
    ":::"
   ]
  },
  {
   "cell_type": "markdown",
   "id": "b91dd946-84e1-4810-8ae6-1b56fba0d3fe",
   "metadata": {
    "tags": []
   },
   "source": [
    "### 2.3 An example for vector addition with manual data transfer"
   ]
  },
  {
   "cell_type": "markdown",
   "id": "64654d6f-0bdd-403c-a0d1-cc25f58366c9",
   "metadata": {},
   "source": [
    "Sometimes, for better performance, one need to calibrate kernels and manually manage data transfer."
   ]
  },
  {
   "cell_type": "code",
   "execution_count": 52,
   "id": "1f771a27-ca6c-4f89-a58a-3dbea92e0015",
   "metadata": {
    "tags": []
   },
   "outputs": [],
   "source": [
    "import numpy as np\n",
    "import numba\n",
    "\n",
    "\n",
    "@numba.cuda.jit\n",
    "def func(a, b, c):\n",
    "    \"\"\"GPU vectorized addition. Computes C = A + B\"\"\"\n",
    "    # like threadIdx.x + (blockIdx.x * blockDim.x)\n",
    "    thread_id = numba.cuda.grid(ndim=1)\n",
    "    size = len(c)\n",
    "\n",
    "    if thread_id < size:\n",
    "        c[thread_id] = a[thread_id] + b[thread_id]"
   ]
  },
  {
   "cell_type": "markdown",
   "id": "9330d069-94fc-4da0-870f-bc60f5619c78",
   "metadata": {},
   "source": [
    "Below, we explicitly move two arrays to the device memory."
   ]
  },
  {
   "cell_type": "code",
   "execution_count": 53,
   "id": "b5bf61f2-e62f-45be-a1f2-ca016833855e",
   "metadata": {
    "tags": []
   },
   "outputs": [],
   "source": [
    "N = 10000000\n",
    "a = numba.cuda.to_device(np.random.random(N))\n",
    "b = numba.cuda.to_device(np.random.random(N))\n",
    "c = numba.cuda.device_array_like(a)"
   ]
  },
  {
   "cell_type": "code",
   "execution_count": 54,
   "id": "27c06333-d2c8-41a7-b1d2-10a228dc0325",
   "metadata": {},
   "outputs": [
    {
     "data": {
      "text/plain": [
       "numba.cuda.cudadrv.devicearray.DeviceNDArray"
      ]
     },
     "execution_count": 54,
     "metadata": {},
     "output_type": "execute_result"
    }
   ],
   "source": [
    "type(a)"
   ]
  },
  {
   "cell_type": "code",
   "execution_count": 55,
   "id": "b4733df6-a6aa-4972-9ef4-69d604d3cfeb",
   "metadata": {
    "tags": []
   },
   "outputs": [
    {
     "name": "stdout",
     "output_type": "stream",
     "text": [
      "2.64 ms ± 0 ns per loop (mean ± std. dev. of 1 run, 1,000 loops each)\n",
      "[1.84777608 0.87310076 0.31258745 ... 0.48141289 1.17548754 1.56743642]\n"
     ]
    }
   ],
   "source": [
    "%timeit -r 1 func.forall(len(a))(a, b, c)\n",
    "print(c.copy_to_host())"
   ]
  },
  {
   "cell_type": "code",
   "execution_count": 56,
   "id": "590c1cde-0d10-4643-bc60-0d4f66ad7d5b",
   "metadata": {
    "tags": []
   },
   "outputs": [
    {
     "name": "stdout",
     "output_type": "stream",
     "text": [
      "2.63 ms ± 0 ns per loop (mean ± std. dev. of 1 run, 1,000 loops each)\n",
      "[1.84777608 0.87310076 0.31258745 ... 0.48141289 1.17548754 1.56743642]\n"
     ]
    }
   ],
   "source": [
    "nthreads = 256  # Enough threads per block for several warps per block\n",
    "nblocks = (len(a) // nthreads) + 1  # Enough blocks to cover entire vector\n",
    "\n",
    "%timeit -r 1 func[nblocks, nthreads](a, b, c)\n",
    "print(c.copy_to_host())"
   ]
  },
  {
   "cell_type": "code",
   "execution_count": 57,
   "id": "6b115e76-ad9a-4851-af4c-98b6e4a1a191",
   "metadata": {},
   "outputs": [
    {
     "data": {
      "text/plain": [
       "15399"
      ]
     },
     "execution_count": 57,
     "metadata": {},
     "output_type": "execute_result"
    }
   ],
   "source": [
    "del a, b, c\n",
    "gc.collect()"
   ]
  },
  {
   "cell_type": "markdown",
   "id": "130bcc0d-4fb5-4420-b285-33b0d63804ce",
   "metadata": {},
   "source": [
    "## 3. Jax"
   ]
  },
  {
   "cell_type": "markdown",
   "id": "b7052b6a-40f5-44ba-b352-ba3085f2e4e2",
   "metadata": {},
   "source": [
    ":::{important} `Jax` offers a drop-in import alias for Numpy and JIT compiler\n",
    "\n",
    "Although `Jax` was originally designed to build neural networks with built-in support for auto-differentiation, it\n",
    "can also be used to optimize other generic computation loads.\n",
    "\n",
    "- Like, CuPy (coming soon), using `import jax.numpy as jnp` provides access to a large subset of optimized Numpy functions.\n",
    "- Like Numba, we decorate with `@jax.jit` to JIT compile. Compiled function can run in GPU (CUDA and experimental ROCm support), TPU or CPU opportunistically.\n",
    "- Unlike Numba, Jax can only work with certain kinds of code: [pure functions, for-loops written differently, etc.](https://jax.readthedocs.io/en/latest/notebooks/Common_Gotchas_in_JAX.html).\n",
    "\n",
    "\n",
    ":::"
   ]
  },
  {
   "cell_type": "markdown",
   "id": "d528e739-66de-4d20-8d48-69c629c43698",
   "metadata": {},
   "source": [
    "### 3.1 Jax as NumPy"
   ]
  },
  {
   "cell_type": "code",
   "execution_count": 58,
   "id": "9228b4c9-36e1-45a5-bb53-feb41df8074d",
   "metadata": {},
   "outputs": [],
   "source": [
    "import numpy as np\n",
    "\n",
    "data = np.random.random((10, 10_000))\n",
    "data[5, 42] = np.nan\n",
    "data[7, 1111] = np.nan"
   ]
  },
  {
   "cell_type": "code",
   "execution_count": 59,
   "id": "63ab7f3b-6a06-48fa-a7bd-a0b2f9e94a47",
   "metadata": {},
   "outputs": [
    {
     "name": "stdout",
     "output_type": "stream",
     "text": [
      "291 ms ± 1.96 ms per loop (mean ± std. dev. of 7 runs, 1 loop each)\n"
     ]
    }
   ],
   "source": [
    "# compute 90th percentile ignoring NaNs, and along the rows of an array\n",
    "time_numpy = %timeit -o np.nanpercentile(data, 90, axis=0)"
   ]
  },
  {
   "cell_type": "code",
   "execution_count": 60,
   "id": "e146c75f-3287-4330-9e8c-e96c0820017a",
   "metadata": {},
   "outputs": [
    {
     "name": "stdout",
     "output_type": "stream",
     "text": [
      "181 μs ± 5.31 μs per loop (mean ± std. dev. of 7 runs, 10,000 loops each)\n"
     ]
    }
   ],
   "source": [
    "import jax.numpy as jnp\n",
    "\n",
    "time_jax = %timeit -o -r 1 jnp.nanpercentile(data, 90, axis=0)"
   ]
  },
  {
   "cell_type": "code",
   "execution_count": 61,
   "id": "b598bbd5-7bdd-4e9c-8bb8-c21a333874b4",
   "metadata": {},
   "outputs": [
    {
     "data": {
      "image/png": "[encoded data removed]",
      "text/plain": [
       "<Figure size 800x200 with 1 Axes>"
      ]
     },
     "metadata": {},
     "output_type": "display_data"
    }
   ],
   "source": [
    "display_timings(numpy_percentile=time_numpy, jax_percentile=time_jax)"
   ]
  },
  {
   "cell_type": "markdown",
   "id": "4d7f71c0-1cb3-4782-808a-333ed9a56331",
   "metadata": {},
   "source": [
    "### 3.2 Jax as JIT compiler"
   ]
  },
  {
   "cell_type": "markdown",
   "id": "1d8d105f-0785-4b65-96fe-9d41631a2e2e",
   "metadata": {},
   "source": [
    "Here we will revisit the example function shown in [section 2.2](#id-2-2-ufunc-and-gufunc)."
   ]
  },
  {
   "cell_type": "code",
   "execution_count": 62,
   "id": "32a6c6ea-c926-495f-985f-49336b91842e",
   "metadata": {},
   "outputs": [],
   "source": [
    "import numpy as np\n",
    "import jax.numpy as jnp\n",
    "from jax import jit\n",
    "\n",
    "\n",
    "def func_numpy(x, y):\n",
    "    return np.power(x, 3.0) + 4 * np.sin(y)\n",
    "\n",
    "\n",
    "@jit\n",
    "def func_jax(x, y):\n",
    "    return jnp.power(x, 3.0) + 4 * jnp.sin(y)"
   ]
  },
  {
   "cell_type": "code",
   "execution_count": 63,
   "id": "09693bfa-94de-438d-9c07-fd127850ed19",
   "metadata": {
    "tags": []
   },
   "outputs": [],
   "source": [
    "N = 10000000\n",
    "mx = np.random.rand(N)"
   ]
  },
  {
   "cell_type": "code",
   "execution_count": 64,
   "id": "17f93a0f-53f1-4354-bab0-26dfcd188ef6",
   "metadata": {
    "tags": []
   },
   "outputs": [
    {
     "name": "stdout",
     "output_type": "stream",
     "text": [
      "207 ms ± 15 ms per loop (mean ± std. dev. of 7 runs, 10 loops each)\n"
     ]
    }
   ],
   "source": [
    "time_numpy = %timeit -o func_numpy(mx, mx)"
   ]
  },
  {
   "cell_type": "code",
   "execution_count": 65,
   "id": "55c62a71-535d-4b4b-b59d-fb7c04a9b584",
   "metadata": {},
   "outputs": [
    {
     "name": "stdout",
     "output_type": "stream",
     "text": [
      "24.9 ms ± 338 μs per loop (mean ± std. dev. of 7 runs, 10 loops each)\n"
     ]
    }
   ],
   "source": [
    "time_jax = %timeit -o func_jax(mx, mx)"
   ]
  },
  {
   "cell_type": "code",
   "execution_count": 66,
   "id": "33611d14-1896-4694-b9a7-4baa670e2cb3",
   "metadata": {},
   "outputs": [
    {
     "data": {
      "text/plain": [
       "[cuda(id=0)]"
      ]
     },
     "execution_count": 66,
     "metadata": {},
     "output_type": "execute_result"
    }
   ],
   "source": [
    "import jax\n",
    "\n",
    "jax.devices()"
   ]
  },
  {
   "cell_type": "code",
   "execution_count": 67,
   "id": "aad2c1ed-1aeb-41d9-913e-7f19a34f0ac9",
   "metadata": {},
   "outputs": [
    {
     "name": "stdout",
     "output_type": "stream",
     "text": [
      "838 μs ± 141 μs per loop (mean ± std. dev. of 7 runs, 50 loops each)\n"
     ]
    }
   ],
   "source": [
    "dmx = jax.device_put(mx)\n",
    "\n",
    "time_jax_gpu = %timeit -o -n 50 func_jax(dmx, dmx)"
   ]
  },
  {
   "cell_type": "code",
   "execution_count": 68,
   "id": "7d8ccbfe-277f-46ca-9f4a-8731ca88d334",
   "metadata": {
    "scrolled": true
   },
   "outputs": [
    {
     "data": {
      "image/png": "[encoded data removed]",
      "text/plain": [
       "<Figure size 800x300 with 1 Axes>"
      ]
     },
     "metadata": {},
     "output_type": "display_data"
    }
   ],
   "source": [
    "display_timings(numpy=time_numpy, jax=time_jax, jax_with_array_in_gpu=time_jax_gpu)"
   ]
  },
  {
   "cell_type": "code",
   "execution_count": 69,
   "id": "9ac5b88d-a4fc-4043-a079-73a867c847a2",
   "metadata": {},
   "outputs": [
    {
     "data": {
      "text/plain": [
       "17648"
      ]
     },
     "execution_count": 69,
     "metadata": {},
     "output_type": "execute_result"
    }
   ],
   "source": [
    "del mx, dmx\n",
    "gc.collect()"
   ]
  },
  {
   "cell_type": "markdown",
   "id": "94ad36e6-843f-42e9-87cd-890eb6730c4b",
   "metadata": {
    "editable": true,
    "slideshow": {
     "slide_type": ""
    },
    "tags": []
   },
   "source": [
    "## 4. CuPy"
   ]
  },
  {
   "cell_type": "markdown",
   "id": "e660cfaa-fda1-4487-a6c3-939d1c5be457",
   "metadata": {},
   "source": [
    ":::{important} `CuPy` is a NumPy/SciPy-compatible array library for GPU-accelerated computing with Python. \n",
    "- It has been developed for NVIDIA GPUs but has experimental support both NVIDIA and AMD GPUs.\n",
    "- All you need to do is replace `numpy` and `scipy` with `cupy` and `cupyx.scipy` in your Python code.\n",
    ":::\n",
    "\n",
    ":::{seealso}\n",
    "Tutorials:\n",
    "- https://docs.cupy.dev/en/stable/user_guide/basic.html\n",
    "- https://arc.leeds.ac.uk/lesson-gpu-programming/02-cupy/index.html\n",
    "- https://carpentries-incubator.github.io/lesson-gpu-programming/cupy.html\n",
    ":::"
   ]
  },
  {
   "cell_type": "markdown",
   "id": "7108afec-2f54-4f51-9b1f-8617ad7ed86f",
   "metadata": {},
   "source": [
    "**Replacement of numpy with cupy**"
   ]
  },
  {
   "cell_type": "code",
   "execution_count": 7,
   "id": "85512e3f-4b83-4e64-b9f3-b82816889381",
   "metadata": {
    "tags": []
   },
   "outputs": [],
   "source": [
    "import cupy as cp\n",
    "import numpy as np\n",
    "\n",
    "lst = [1, 2, 3, 4, 5, 6, 7, 8, 9]\n",
    "\n",
    "# creating arrays\n",
    "lst_cpu = np.array(lst)\n",
    "lst_gpu = cp.array(lst)"
   ]
  },
  {
   "cell_type": "code",
   "execution_count": 8,
   "id": "d6731f99-9ce9-4417-a9a9-fb8d18a39f71",
   "metadata": {
    "tags": []
   },
   "outputs": [
    {
     "name": "stdout",
     "output_type": "stream",
     "text": [
      "Using Numpy:  16.881943016134134\n",
      "Using Cupy:   16.881943016134134\n"
     ]
    }
   ],
   "source": [
    "# calculate the Euclidean norm\n",
    "lst_cpu_norm = np.linalg.norm(lst_cpu)\n",
    "lst_gpu_norm = cp.linalg.norm(lst_gpu)\n",
    "\n",
    "print(\"Using Numpy: \", lst_cpu_norm)\n",
    "print(\"Using Cupy:  \", lst_gpu_norm)"
   ]
  },
  {
   "cell_type": "markdown",
   "id": "5eb1242b-67b3-40f6-88fa-6bec107dc39d",
   "metadata": {},
   "source": [
    "Same answer, same decimal precision."
   ]
  },
  {
   "cell_type": "markdown",
   "id": "d796cdd7-19f3-4759-8025-4cfb6257a5c7",
   "metadata": {},
   "source": [
    "**Speed comparison between cupy and numpy**"
   ]
  },
  {
   "cell_type": "code",
   "execution_count": 9,
   "id": "3342348d-2a90-4e99-8c91-76dba81b6f93",
   "metadata": {
    "tags": []
   },
   "outputs": [
    {
     "name": "stdout",
     "output_type": "stream",
     "text": [
      "917 μs ± 0 ns per loop (mean ± std. dev. of 1 run, 1,000 loops each)\n"
     ]
    }
   ],
   "source": [
    "# NumPy and CPU Runtime\n",
    "x_cpu = np.random.random((3000, 1000))\n",
    "time_numpy = %timeit -o -r 1 np.linalg.norm(x_cpu)"
   ]
  },
  {
   "cell_type": "code",
   "execution_count": 10,
   "id": "8612c803-8000-40ed-94b6-3b53c4301e07",
   "metadata": {
    "tags": []
   },
   "outputs": [
    {
     "name": "stdout",
     "output_type": "stream",
     "text": [
      "122 μs ± 0 ns per loop (mean ± std. dev. of 1 run, 10 loops each)\n"
     ]
    }
   ],
   "source": [
    "# CuPy and GPU Runtime\n",
    "x_gpu = cp.random.random((3000, 1000))\n",
    "time_cupy = %timeit -o -r 1 -n 10 cp.linalg.norm(x_gpu)"
   ]
  },
  {
   "cell_type": "code",
   "execution_count": 11,
   "id": "33e9a839-ee3a-4161-9bc8-31bf6866a4cf",
   "metadata": {},
   "outputs": [
    {
     "data": {
      "image/png": "[encoded data removed]",
      "text/plain": [
       "<Figure size 800x200 with 1 Axes>"
      ]
     },
     "metadata": {},
     "output_type": "display_data"
    }
   ],
   "source": [
    "display_timings(norm_numpy=time_numpy, norm_cupy=time_cupy)"
   ]
  },
  {
   "cell_type": "markdown",
   "id": "76969a74-72bd-411e-9ceb-c369bfd7da6f",
   "metadata": {},
   "source": [
    "**Interfacing with user-defined Kernels**"
   ]
  },
  {
   "cell_type": "code",
   "execution_count": 12,
   "id": "08cf5d28-c24d-429f-b7ef-63f01e3857a9",
   "metadata": {
    "scrolled": true
   },
   "outputs": [
    {
     "data": {
      "text/plain": [
       "array([[ 0.,  1.,  2.,  3.,  4.],\n",
       "       [ 5.,  6.,  7.,  8.,  9.],\n",
       "       [10., 11., 12., 13., 14.],\n",
       "       [15., 16., 17., 18., 19.],\n",
       "       [20., 21., 22., 23., 24.]], dtype=float32)"
      ]
     },
     "execution_count": 12,
     "metadata": {},
     "output_type": "execute_result"
    }
   ],
   "source": [
    "import cupy as cp\n",
    "\n",
    "x1 = cp.arange(25, dtype=cp.float32).reshape(5, 5)\n",
    "x2 = cp.arange(25, dtype=cp.float32).reshape(5, 5)\n",
    "\n",
    "x2"
   ]
  },
  {
   "cell_type": "code",
   "execution_count": 13,
   "id": "27e7a34b-e550-4532-a884-714d6a43b501",
   "metadata": {},
   "outputs": [
    {
     "data": {
      "text/plain": [
       "array([[0., 0., 0., 0., 0.],\n",
       "       [0., 0., 0., 0., 0.],\n",
       "       [0., 0., 0., 0., 0.],\n",
       "       [0., 0., 0., 0., 0.],\n",
       "       [0., 0., 0., 0., 0.]], dtype=float32)"
      ]
     },
     "execution_count": 13,
     "metadata": {},
     "output_type": "execute_result"
    }
   ],
   "source": [
    "y = cp.zeros((5, 5), dtype=cp.float32)\n",
    "y"
   ]
  },
  {
   "cell_type": "markdown",
   "id": "a66ed02a-368c-47d2-99e5-ff81b344cae5",
   "metadata": {},
   "source": [
    "**Simpler approach**: we use `ElementwiseKernel`"
   ]
  },
  {
   "cell_type": "code",
   "execution_count": 14,
   "id": "1a05e37b-e8af-4fde-82de-7f67ccbf9859",
   "metadata": {},
   "outputs": [],
   "source": [
    "add_elemwise = cp.ElementwiseKernel(\n",
    "    \"float32 x1, float32 x2\", \"float32 y\", \"y = x1 + x2\", \"my_add_elemwise\"\n",
    ")"
   ]
  },
  {
   "cell_type": "code",
   "execution_count": 15,
   "id": "a4271b97-47c4-457f-be0b-2675fae852af",
   "metadata": {},
   "outputs": [
    {
     "data": {
      "text/plain": [
       "array([[ 0.,  2.,  4.,  6.,  8.],\n",
       "       [10., 12., 14., 16., 18.],\n",
       "       [20., 22., 24., 26., 28.],\n",
       "       [30., 32., 34., 36., 38.],\n",
       "       [40., 42., 44., 46., 48.]], dtype=float32)"
      ]
     },
     "execution_count": 15,
     "metadata": {},
     "output_type": "execute_result"
    }
   ],
   "source": [
    "add_elemwise(x1, x2)"
   ]
  },
  {
   "cell_type": "markdown",
   "id": "9cdd10db-ff47-474c-8a6b-99ef714baf97",
   "metadata": {},
   "source": [
    "**Complicated approach**: we use `RawKernel` which is essentially CUDA / C++ code"
   ]
  },
  {
   "cell_type": "code",
   "execution_count": 16,
   "id": "f640996c-69ff-4c6c-a946-6c16f649a258",
   "metadata": {
    "tags": []
   },
   "outputs": [],
   "source": [
    "add_kernel = cp.RawKernel(\n",
    "    r\"\"\"\n",
    "extern \"C\" __global__\n",
    "void my_add(const float* x1, const float* x2, float* y) {\n",
    "    int tid = blockDim.x * blockIdx.x + threadIdx.x;\n",
    "    y[tid] = x1[tid] + x2[tid];\n",
    "}\n",
    "\"\"\",\n",
    "    \"my_add\",\n",
    ")"
   ]
  },
  {
   "cell_type": "code",
   "execution_count": 17,
   "id": "d1573d50-74d6-4dba-9e2c-f49cfa1f2c2c",
   "metadata": {
    "tags": []
   },
   "outputs": [
    {
     "data": {
      "text/plain": [
       "array([[ 0.,  2.,  4.,  6.,  8.],\n",
       "       [10., 12., 14., 16., 18.],\n",
       "       [20., 22., 24., 26., 28.],\n",
       "       [30., 32., 34., 36., 38.],\n",
       "       [40., 42., 44., 46., 48.]], dtype=float32)"
      ]
     },
     "execution_count": 17,
     "metadata": {},
     "output_type": "execute_result"
    }
   ],
   "source": [
    "add_kernel((5,), (5,), (x1, x2, y))  # grid, block and arguments\n",
    "\n",
    "y"
   ]
  },
  {
   "cell_type": "markdown",
   "id": "2073c3f0-048f-4e77-9e51-fdd017d4bce5",
   "metadata": {
    "tags": []
   },
   "source": [
    "## 5. PyCUDA"
   ]
  },
  {
   "cell_type": "markdown",
   "id": "3a7e87f6-02e3-461e-8a63-92098cb33671",
   "metadata": {
    "tags": []
   },
   "source": [
    ":::{important} [PyCUDA](https://pypi.org/project/pycuda/) is a Python programming environment for CUDA\n",
    "- It allows users to access to NVIDIA’s CUDA parallel computing API from Python.\n",
    "- PyCUDA is powerful library but only runs on NVIDIA GPUs.\n",
    "- Knowledge of CUDA programming is needed.\n",
    ":::"
   ]
  },
  {
   "cell_type": "code",
   "execution_count": 80,
   "id": "6e4f986d-ba5e-4022-9136-2875a5098102",
   "metadata": {},
   "outputs": [],
   "source": [
    "# Step 1: Initialization\n",
    "\n",
    "import pycuda.driver as cuda\n",
    "import pycuda.autoinit\n",
    "from pycuda.compiler import SourceModule"
   ]
  },
  {
   "cell_type": "code",
   "execution_count": 81,
   "id": "c34591de-1678-4f17-81c1-6e45f0504637",
   "metadata": {
    "tags": []
   },
   "outputs": [
    {
     "name": "stdout",
     "output_type": "stream",
     "text": [
      "[[ 0.30697703  0.38735956  0.61498296 -1.9524285 ]\n",
      " [-0.6650422   0.47665367 -0.62378603 -1.3605052 ]\n",
      " [-1.0162882   1.8609197  -0.10131096  1.0034049 ]\n",
      " [-0.79997283  0.7107024   0.7616016  -0.5101648 ]]\n"
     ]
    }
   ],
   "source": [
    "# Step 2: Transferring data\n",
    "\n",
    "# 2.1: Generating numbers with single precision\n",
    "import numpy as np\n",
    "\n",
    "mx_cpu = np.random.randn(4, 4)\n",
    "mx_cpu = mx_cpu.astype(np.float32)\n",
    "print(mx_cpu, end=\"\\n\")\n",
    "\n",
    "# 2.2: Allocation of memory on GPU\n",
    "mx_gpu = cuda.mem_alloc(mx_cpu.nbytes)\n",
    "\n",
    "# 2.3: Transferring data from CPU (host) to GPU (device)\n",
    "cuda.memcpy_htod(mx_gpu, mx_cpu)"
   ]
  },
  {
   "cell_type": "code",
   "execution_count": 82,
   "id": "34b741e9-f8a5-45f4-933b-54ac94e55069",
   "metadata": {},
   "outputs": [],
   "source": [
    "# Step 3: Executing a kernel on GPU\n",
    "\n",
    "# 3.1 Definition of the kernel\n",
    "mod = SourceModule(\n",
    "    \"\"\"\n",
    "  __global__ void doublify(float *a)\n",
    "  {\n",
    "    int idx = threadIdx.x + threadIdx.y*4;\n",
    "    a[idx] *= 2.0;\n",
    "  }\n",
    "  \"\"\"\n",
    ")\n",
    "\n",
    "# 3.2 Compile this kernel, loading it onto GPU, and then call this kernel\n",
    "doublify = mod.get_function(\"doublify\")\n",
    "\n",
    "doublify(mx_gpu, block=(4, 4, 1), grid=(1, 1))"
   ]
  },
  {
   "cell_type": "code",
   "execution_count": 83,
   "id": "499403ed-3144-49b4-9d4f-2d32996aae2d",
   "metadata": {},
   "outputs": [
    {
     "name": "stdout",
     "output_type": "stream",
     "text": [
      "[[ 0.30697703  0.38735956  0.61498296 -1.9524285 ]\n",
      " [-0.6650422   0.47665367 -0.62378603 -1.3605052 ]\n",
      " [-1.0162882   1.8609197  -0.10131096  1.0034049 ]\n",
      " [-0.79997283  0.7107024   0.7616016  -0.5101648 ]] \n",
      "\n",
      " [[ 0.61395407  0.7747191   1.2299659  -3.904857  ]\n",
      " [-1.3300844   0.95330733 -1.2475721  -2.7210104 ]\n",
      " [-2.0325763   3.7218394  -0.20262192  2.0068097 ]\n",
      " [-1.5999457   1.4214048   1.5232033  -1.0203296 ]]\n"
     ]
    }
   ],
   "source": [
    "# Step 4: Transferring data from GPU (device) to CPU (host)\n",
    "\n",
    "mx_doubled = np.empty_like(mx_cpu)\n",
    "cuda.memcpy_dtoh(mx_doubled, mx_gpu)\n",
    "\n",
    "print(mx_cpu, \"\\n\\n\", mx_doubled)"
   ]
  },
  {
   "cell_type": "code",
   "execution_count": 84,
   "id": "2ca7fa6f-18eb-42dd-8f38-5673ae8bc40e",
   "metadata": {
    "tags": []
   },
   "outputs": [
    {
     "name": "stdout",
     "output_type": "stream",
     "text": [
      "[[-0.17868416  0.8772735  -0.23984867  0.35474667]\n",
      " [ 1.7033818  -1.4176269  -0.43798986  1.9720881 ]\n",
      " [-0.84189016  1.5366915   1.2805576  -1.3255235 ]\n",
      " [-0.0714388   1.4255133  -0.51113176  1.149445  ]] \n",
      "\n",
      " [[-0.35736832  1.754547   -0.47969735  0.70949334]\n",
      " [ 3.4067636  -2.8352537  -0.8759797   3.9441762 ]\n",
      " [-1.6837803   3.073383    2.5611153  -2.651047  ]\n",
      " [-0.14287761  2.8510265  -1.0222635   2.29889   ]]\n"
     ]
    }
   ],
   "source": [
    "# Bonus: Abstracting Away the Complications\n",
    "# Using a pycuda.gpuarray to achieve the same effect with less writing\n",
    "\n",
    "import pycuda.gpuarray as gpuarray\n",
    "\n",
    "mx_gpu = gpuarray.to_gpu(np.random.randn(4, 4).astype(np.float32))\n",
    "mx_doubled = (2 * mx_gpu).get()\n",
    "\n",
    "print(mx_gpu, \"\\n\\n\", mx_doubled)"
   ]
  }
 ],
 "metadata": {
  "kernelspec": {
   "display_name": "Python 3 (ipykernel)",
   "language": "python",
   "name": "python3"
  },
  "language_info": {
   "codemirror_mode": {
    "name": "ipython",
    "version": 3
   },
   "file_extension": ".py",
   "mimetype": "text/x-python",
   "name": "python",
   "nbconvert_exporter": "python",
   "pygments_lexer": "ipython3",
   "version": "3.10.15"
  }
 },
 "nbformat": 4,
 "nbformat_minor": 5
}
