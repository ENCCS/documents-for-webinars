{
 "cells": [
  {
   "cell_type": "markdown",
   "id": "ba2baa74-a09a-40e6-88f7-039199bde853",
   "metadata": {},
   "source": [
    "# Python Programming"
   ]
  },
  {
   "cell_type": "markdown",
   "id": "6cfabd38-0359-4540-9f1f-f57a9862ede9",
   "metadata": {
    "tags": []
   },
   "source": [
    "## 1. Introduction to Python"
   ]
  },
  {
   "cell_type": "markdown",
   "id": "d2083379-21fc-4a9a-bef6-f61eafee7fa5",
   "metadata": {
    "tags": []
   },
   "source": [
    "- Scalar variables: `data type`, `numbers`, `strings`, *etc.*\n",
    "- Collections: `list`, `tuple`, `dictionary`, `set`, *etc.*\n",
    "- Control structures: `if-elif-else`, `for` loop, `while` loop, *etc.*\n",
    "- Functions: build-in functions, self-defined functions, modules, library, *etc.*\n",
    "- Class: definition, object, encapsulation, inheritance, polymorphism, *etc.*"
   ]
  },
  {
   "cell_type": "markdown",
   "id": "b89c6550-0f01-4b54-840e-56bdca1d76af",
   "metadata": {
    "tags": []
   },
   "source": [
    "## 2. Numpy, Pandas, Matplotlib"
   ]
  },
  {
   "cell_type": "markdown",
   "id": "a56cce2a-ce7e-4eab-947c-38fce97c6e29",
   "metadata": {
    "tags": []
   },
   "source": [
    "### 2.1 Numpy"
   ]
  },
  {
   "cell_type": "markdown",
   "id": "a04b38be-3f54-4250-ac43-4e90930f3a34",
   "metadata": {},
   "source": [
    "`NumPy` is a Python library and can be used to perform a wide variety of (efficient) mathematical operations on arrays and matrices."
   ]
  },
  {
   "cell_type": "code",
   "execution_count": 1,
   "id": "f5384d75-b9c5-4cf9-9212-19bcc8c0de9d",
   "metadata": {
    "tags": []
   },
   "outputs": [],
   "source": [
    "a = list(range(10000))\n",
    "b = [0] * 10000"
   ]
  },
  {
   "cell_type": "code",
   "execution_count": 2,
   "id": "f00b3bca-9c3d-4335-b794-2bd5d7271b96",
   "metadata": {
    "tags": []
   },
   "outputs": [
    {
     "name": "stdout",
     "output_type": "stream",
     "text": [
      "2 ms ± 4.61 μs per loop (mean ± std. dev. of 7 runs, 100 loops each)\n"
     ]
    }
   ],
   "source": [
    "%%timeit\n",
    "for i in range(len(a)):\n",
    "    b[i] = a[i] ** 2"
   ]
  },
  {
   "cell_type": "code",
   "execution_count": 3,
   "id": "40ac5f0b-b658-4f6e-bc99-f1599cbfe025",
   "metadata": {
    "tags": []
   },
   "outputs": [],
   "source": [
    "import numpy as np\n",
    "\n",
    "a = np.arange(10000)\n",
    "b = np.zeros(10000)"
   ]
  },
  {
   "cell_type": "code",
   "execution_count": 4,
   "id": "86469330-2d6c-4328-9660-bd94a21b8485",
   "metadata": {
    "tags": []
   },
   "outputs": [
    {
     "name": "stdout",
     "output_type": "stream",
     "text": [
      "2.76 μs ± 112 ns per loop (mean ± std. dev. of 7 runs, 100,000 loops each)\n"
     ]
    }
   ],
   "source": [
    "%%timeit\n",
    "b = a**2"
   ]
  },
  {
   "cell_type": "markdown",
   "id": "50d5829f-7475-4099-b2a1-808e5e43e205",
   "metadata": {},
   "source": [
    "#### Creating arrays"
   ]
  },
  {
   "cell_type": "code",
   "execution_count": 5,
   "id": "703be7b6-58ed-4a0e-991e-23f57a9d50a6",
   "metadata": {
    "tags": []
   },
   "outputs": [
    {
     "name": "stdout",
     "output_type": "stream",
     "text": [
      "(2, 3)\n",
      "6\n"
     ]
    }
   ],
   "source": [
    "a = np.array([1, 2, 3])  # 1-dimensional array (rank 1)\n",
    "b = np.array([[1, 2, 3], [4, 5, 6]])  # 2-dimensional array (rank 2)\n",
    "\n",
    "print(b.shape)  # the shape (rows,columns)\n",
    "print(b.size)  # number of elements"
   ]
  },
  {
   "cell_type": "code",
   "execution_count": 6,
   "id": "16f6731d-54fa-4c5f-8045-157af6659ecc",
   "metadata": {
    "tags": []
   },
   "outputs": [
    {
     "data": {
      "text/plain": [
       "array([ 0,  1,  2,  3,  4,  5,  6,  7,  8,  9, 10, 11, 12, 13, 14, 15])"
      ]
     },
     "execution_count": 6,
     "metadata": {},
     "output_type": "execute_result"
    }
   ],
   "source": [
    "a = np.arange(16)\n",
    "a"
   ]
  },
  {
   "cell_type": "code",
   "execution_count": 7,
   "id": "570222e7-2d00-4429-a152-5567739ac3f9",
   "metadata": {
    "tags": []
   },
   "outputs": [
    {
     "data": {
      "text/plain": [
       "array([[0.00967244, 0.64831184, 0.33252616, 0.35029161],\n",
       "       [0.47208615, 0.07361926, 0.8614362 , 0.56775698],\n",
       "       [0.1771404 , 0.38745633, 0.41808485, 0.40363782],\n",
       "       [0.54171113, 0.46625083, 0.56194795, 0.53811087]])"
      ]
     },
     "execution_count": 7,
     "metadata": {},
     "output_type": "execute_result"
    }
   ],
   "source": [
    "a = a.reshape(4, 4)\n",
    "\n",
    "b = np.random.rand(16).reshape(4, 4)\n",
    "b"
   ]
  },
  {
   "cell_type": "markdown",
   "id": "6a3ba29a-5359-464e-9575-43c0b8482972",
   "metadata": {},
   "source": [
    "#### Array maths and vectorization"
   ]
  },
  {
   "cell_type": "code",
   "execution_count": 8,
   "id": "cab88137-9c85-4f38-8205-4aba812afcac",
   "metadata": {
    "tags": []
   },
   "outputs": [
    {
     "data": {
      "text/plain": [
       "array([[9.67244129e-03, 1.64831184e+00, 2.33252616e+00, 3.35029161e+00],\n",
       "       [4.47208615e+00, 5.07361926e+00, 6.86143620e+00, 7.56775698e+00],\n",
       "       [8.17714040e+00, 9.38745633e+00, 1.04180849e+01, 1.14036378e+01],\n",
       "       [1.25417111e+01, 1.34662508e+01, 1.45619479e+01, 1.55381109e+01]])"
      ]
     },
     "execution_count": 8,
     "metadata": {},
     "output_type": "execute_result"
    }
   ],
   "source": [
    "c = np.add(a, b)  # = a+b\n",
    "c"
   ]
  },
  {
   "cell_type": "markdown",
   "id": "9501b227-3d36-461f-be59-23cd8bc8b3b8",
   "metadata": {},
   "source": [
    "Other common mathematical operations include:\n",
    "- `-` (numpy.subtract)\n",
    "- `*` (numpy.multiply)\n",
    "- `/` (numpy.divide)\n",
    "- `.T` (numpy.transpose())\n",
    "- numpy.sqrt, numpy.sum(), numpy.mean()\n",
    "- np.dot() (`@`)"
   ]
  },
  {
   "cell_type": "code",
   "execution_count": 9,
   "id": "f2d7221d-50fd-4e03-93d1-58bd52848e40",
   "metadata": {
    "tags": []
   },
   "outputs": [
    {
     "data": {
      "text/plain": [
       "array([[0.        , 0.64831184, 0.66505233, 1.05087482],\n",
       "       [1.88834459, 0.3680963 , 5.16861723, 3.97429888],\n",
       "       [1.41712319, 3.48710696, 4.18084855, 4.44001597],\n",
       "       [6.50053355, 6.06126083, 7.86727129, 8.07166309]])"
      ]
     },
     "execution_count": 9,
     "metadata": {},
     "output_type": "execute_result"
    }
   ],
   "source": [
    "# Matrix multiplication\n",
    "a * b"
   ]
  },
  {
   "cell_type": "code",
   "execution_count": 10,
   "id": "0e97f178-08d1-4dd0-a69e-82c768eadb93",
   "metadata": {
    "tags": []
   },
   "outputs": [
    {
     "data": {
      "text/plain": [
       "array([[ 2.45150033,  2.24728442,  3.38344976,  2.98936523],\n",
       "       [ 7.25394079,  8.54983747, 12.07943046, 10.42855434],\n",
       "       [12.05638125, 14.85239053, 20.77541116, 17.86774345],\n",
       "       [16.85882171, 21.15494359, 29.47139185, 25.30693256]])"
      ]
     },
     "execution_count": 10,
     "metadata": {},
     "output_type": "execute_result"
    }
   ],
   "source": [
    "np.dot(a, b)  # equals to `a @ b`"
   ]
  },
  {
   "cell_type": "markdown",
   "id": "4635d344-dbfd-422e-9df8-de40df77a1ed",
   "metadata": {
    "tags": []
   },
   "source": [
    "### 2.2 Pandas"
   ]
  },
  {
   "cell_type": "markdown",
   "id": "1621a8c9-7601-4373-8924-8071d265ad3e",
   "metadata": {
    "tags": []
   },
   "source": [
    "`Pandas` is a data manipulation package in Python and provides high-performance data analysis for tabular data."
   ]
  },
  {
   "cell_type": "markdown",
   "id": "7622ac05-2920-4ce2-a8fa-24fa42b5a736",
   "metadata": {},
   "source": [
    "#### Code example to analyze the Titanic passenger data"
   ]
  },
  {
   "cell_type": "code",
   "execution_count": 11,
   "id": "e5a44bd7-6ead-4cc1-bc3e-2e8eeffcdf7f",
   "metadata": {
    "tags": []
   },
   "outputs": [],
   "source": [
    "import pandas as pd\n",
    "\n",
    "url = \"https://raw.githubusercontent.com/pandas-dev/pandas/master/doc/data/titanic.csv\"\n",
    "titanic = pd.read_csv(url, index_col=\"Name\")"
   ]
  },
  {
   "cell_type": "code",
   "execution_count": 12,
   "id": "98b97f1b-c2ed-413b-89ea-821425dd170a",
   "metadata": {
    "tags": []
   },
   "outputs": [
    {
     "data": {
      "text/html": [
       "<div>\n",
       "<style scoped>\n",
       "    .dataframe tbody tr th:only-of-type {\n",
       "        vertical-align: middle;\n",
       "    }\n",
       "\n",
       "    .dataframe tbody tr th {\n",
       "        vertical-align: top;\n",
       "    }\n",
       "\n",
       "    .dataframe thead th {\n",
       "        text-align: right;\n",
       "    }\n",
       "</style>\n",
       "<table border=\"1\" class=\"dataframe\">\n",
       "  <thead>\n",
       "    <tr style=\"text-align: right;\">\n",
       "      <th></th>\n",
       "      <th>PassengerId</th>\n",
       "      <th>Survived</th>\n",
       "      <th>Pclass</th>\n",
       "      <th>Sex</th>\n",
       "      <th>Age</th>\n",
       "      <th>SibSp</th>\n",
       "      <th>Parch</th>\n",
       "      <th>Ticket</th>\n",
       "      <th>Fare</th>\n",
       "      <th>Cabin</th>\n",
       "      <th>Embarked</th>\n",
       "    </tr>\n",
       "    <tr>\n",
       "      <th>Name</th>\n",
       "      <th></th>\n",
       "      <th></th>\n",
       "      <th></th>\n",
       "      <th></th>\n",
       "      <th></th>\n",
       "      <th></th>\n",
       "      <th></th>\n",
       "      <th></th>\n",
       "      <th></th>\n",
       "      <th></th>\n",
       "      <th></th>\n",
       "    </tr>\n",
       "  </thead>\n",
       "  <tbody>\n",
       "    <tr>\n",
       "      <th>Braund, Mr. Owen Harris</th>\n",
       "      <td>1</td>\n",
       "      <td>0</td>\n",
       "      <td>3</td>\n",
       "      <td>male</td>\n",
       "      <td>22.0</td>\n",
       "      <td>1</td>\n",
       "      <td>0</td>\n",
       "      <td>A/5 21171</td>\n",
       "      <td>7.2500</td>\n",
       "      <td>NaN</td>\n",
       "      <td>S</td>\n",
       "    </tr>\n",
       "    <tr>\n",
       "      <th>Cumings, Mrs. John Bradley (Florence Briggs Thayer)</th>\n",
       "      <td>2</td>\n",
       "      <td>1</td>\n",
       "      <td>1</td>\n",
       "      <td>female</td>\n",
       "      <td>38.0</td>\n",
       "      <td>1</td>\n",
       "      <td>0</td>\n",
       "      <td>PC 17599</td>\n",
       "      <td>71.2833</td>\n",
       "      <td>C85</td>\n",
       "      <td>C</td>\n",
       "    </tr>\n",
       "    <tr>\n",
       "      <th>Heikkinen, Miss Laina</th>\n",
       "      <td>3</td>\n",
       "      <td>1</td>\n",
       "      <td>3</td>\n",
       "      <td>female</td>\n",
       "      <td>26.0</td>\n",
       "      <td>0</td>\n",
       "      <td>0</td>\n",
       "      <td>STON/O2. 3101282</td>\n",
       "      <td>7.9250</td>\n",
       "      <td>NaN</td>\n",
       "      <td>S</td>\n",
       "    </tr>\n",
       "    <tr>\n",
       "      <th>Futrelle, Mrs. Jacques Heath (Lily May Peel)</th>\n",
       "      <td>4</td>\n",
       "      <td>1</td>\n",
       "      <td>1</td>\n",
       "      <td>female</td>\n",
       "      <td>35.0</td>\n",
       "      <td>1</td>\n",
       "      <td>0</td>\n",
       "      <td>113803</td>\n",
       "      <td>53.1000</td>\n",
       "      <td>C123</td>\n",
       "      <td>S</td>\n",
       "    </tr>\n",
       "    <tr>\n",
       "      <th>Allen, Mr. William Henry</th>\n",
       "      <td>5</td>\n",
       "      <td>0</td>\n",
       "      <td>3</td>\n",
       "      <td>male</td>\n",
       "      <td>35.0</td>\n",
       "      <td>0</td>\n",
       "      <td>0</td>\n",
       "      <td>373450</td>\n",
       "      <td>8.0500</td>\n",
       "      <td>NaN</td>\n",
       "      <td>S</td>\n",
       "    </tr>\n",
       "  </tbody>\n",
       "</table>\n",
       "</div>"
      ],
      "text/plain": [
       "                                                    PassengerId  Survived  \\\n",
       "Name                                                                        \n",
       "Braund, Mr. Owen Harris                                       1         0   \n",
       "Cumings, Mrs. John Bradley (Florence Briggs Tha...            2         1   \n",
       "Heikkinen, Miss Laina                                         3         1   \n",
       "Futrelle, Mrs. Jacques Heath (Lily May Peel)                  4         1   \n",
       "Allen, Mr. William Henry                                      5         0   \n",
       "\n",
       "                                                    Pclass     Sex   Age  \\\n",
       "Name                                                                       \n",
       "Braund, Mr. Owen Harris                                  3    male  22.0   \n",
       "Cumings, Mrs. John Bradley (Florence Briggs Tha...       1  female  38.0   \n",
       "Heikkinen, Miss Laina                                    3  female  26.0   \n",
       "Futrelle, Mrs. Jacques Heath (Lily May Peel)             1  female  35.0   \n",
       "Allen, Mr. William Henry                                 3    male  35.0   \n",
       "\n",
       "                                                    SibSp  Parch  \\\n",
       "Name                                                               \n",
       "Braund, Mr. Owen Harris                                 1      0   \n",
       "Cumings, Mrs. John Bradley (Florence Briggs Tha...      1      0   \n",
       "Heikkinen, Miss Laina                                   0      0   \n",
       "Futrelle, Mrs. Jacques Heath (Lily May Peel)            1      0   \n",
       "Allen, Mr. William Henry                                0      0   \n",
       "\n",
       "                                                              Ticket     Fare  \\\n",
       "Name                                                                            \n",
       "Braund, Mr. Owen Harris                                    A/5 21171   7.2500   \n",
       "Cumings, Mrs. John Bradley (Florence Briggs Tha...          PC 17599  71.2833   \n",
       "Heikkinen, Miss Laina                               STON/O2. 3101282   7.9250   \n",
       "Futrelle, Mrs. Jacques Heath (Lily May Peel)                  113803  53.1000   \n",
       "Allen, Mr. William Henry                                      373450   8.0500   \n",
       "\n",
       "                                                   Cabin Embarked  \n",
       "Name                                                               \n",
       "Braund, Mr. Owen Harris                              NaN        S  \n",
       "Cumings, Mrs. John Bradley (Florence Briggs Tha...   C85        C  \n",
       "Heikkinen, Miss Laina                                NaN        S  \n",
       "Futrelle, Mrs. Jacques Heath (Lily May Peel)        C123        S  \n",
       "Allen, Mr. William Henry                             NaN        S  "
      ]
     },
     "execution_count": 12,
     "metadata": {},
     "output_type": "execute_result"
    }
   ],
   "source": [
    "# print the first 5 lines of the dataframe\n",
    "\n",
    "titanic.head()"
   ]
  },
  {
   "cell_type": "code",
   "execution_count": 13,
   "id": "00129b17-39b8-45e6-9304-0ec3a7f85483",
   "metadata": {
    "tags": []
   },
   "outputs": [
    {
     "name": "stdout",
     "output_type": "stream",
     "text": [
      "<class 'pandas.core.frame.DataFrame'>\n",
      "Index: 891 entries, Braund, Mr. Owen Harris to Dooley, Mr. Patrick\n",
      "Data columns (total 11 columns):\n",
      " #   Column       Non-Null Count  Dtype  \n",
      "---  ------       --------------  -----  \n",
      " 0   PassengerId  891 non-null    int64  \n",
      " 1   Survived     891 non-null    int64  \n",
      " 2   Pclass       891 non-null    int64  \n",
      " 3   Sex          891 non-null    object \n",
      " 4   Age          714 non-null    float64\n",
      " 5   SibSp        891 non-null    int64  \n",
      " 6   Parch        891 non-null    int64  \n",
      " 7   Ticket       891 non-null    object \n",
      " 8   Fare         891 non-null    float64\n",
      " 9   Cabin        204 non-null    object \n",
      " 10  Embarked     889 non-null    object \n",
      "dtypes: float64(2), int64(5), object(4)\n",
      "memory usage: 83.5+ KB\n"
     ]
    }
   ],
   "source": [
    "# Get DataFrame Data Types\n",
    "\n",
    "titanic.info()"
   ]
  },
  {
   "cell_type": "code",
   "execution_count": 14,
   "id": "62b37dbc-524c-42a2-a883-bfb83897ed33",
   "metadata": {
    "tags": []
   },
   "outputs": [
    {
     "data": {
      "text/html": [
       "<div>\n",
       "<style scoped>\n",
       "    .dataframe tbody tr th:only-of-type {\n",
       "        vertical-align: middle;\n",
       "    }\n",
       "\n",
       "    .dataframe tbody tr th {\n",
       "        vertical-align: top;\n",
       "    }\n",
       "\n",
       "    .dataframe thead th {\n",
       "        text-align: right;\n",
       "    }\n",
       "</style>\n",
       "<table border=\"1\" class=\"dataframe\">\n",
       "  <thead>\n",
       "    <tr style=\"text-align: right;\">\n",
       "      <th></th>\n",
       "      <th>PassengerId</th>\n",
       "      <th>Survived</th>\n",
       "      <th>Pclass</th>\n",
       "      <th>Age</th>\n",
       "      <th>SibSp</th>\n",
       "      <th>Parch</th>\n",
       "      <th>Fare</th>\n",
       "    </tr>\n",
       "  </thead>\n",
       "  <tbody>\n",
       "    <tr>\n",
       "      <th>count</th>\n",
       "      <td>891.000000</td>\n",
       "      <td>891.000000</td>\n",
       "      <td>891.000000</td>\n",
       "      <td>714.000000</td>\n",
       "      <td>891.000000</td>\n",
       "      <td>891.000000</td>\n",
       "      <td>891.000000</td>\n",
       "    </tr>\n",
       "    <tr>\n",
       "      <th>mean</th>\n",
       "      <td>446.000000</td>\n",
       "      <td>0.383838</td>\n",
       "      <td>2.308642</td>\n",
       "      <td>29.699118</td>\n",
       "      <td>0.523008</td>\n",
       "      <td>0.381594</td>\n",
       "      <td>32.204208</td>\n",
       "    </tr>\n",
       "    <tr>\n",
       "      <th>std</th>\n",
       "      <td>257.353842</td>\n",
       "      <td>0.486592</td>\n",
       "      <td>0.836071</td>\n",
       "      <td>14.526497</td>\n",
       "      <td>1.102743</td>\n",
       "      <td>0.806057</td>\n",
       "      <td>49.693429</td>\n",
       "    </tr>\n",
       "    <tr>\n",
       "      <th>min</th>\n",
       "      <td>1.000000</td>\n",
       "      <td>0.000000</td>\n",
       "      <td>1.000000</td>\n",
       "      <td>0.420000</td>\n",
       "      <td>0.000000</td>\n",
       "      <td>0.000000</td>\n",
       "      <td>0.000000</td>\n",
       "    </tr>\n",
       "    <tr>\n",
       "      <th>25%</th>\n",
       "      <td>223.500000</td>\n",
       "      <td>0.000000</td>\n",
       "      <td>2.000000</td>\n",
       "      <td>20.125000</td>\n",
       "      <td>0.000000</td>\n",
       "      <td>0.000000</td>\n",
       "      <td>7.910400</td>\n",
       "    </tr>\n",
       "    <tr>\n",
       "      <th>50%</th>\n",
       "      <td>446.000000</td>\n",
       "      <td>0.000000</td>\n",
       "      <td>3.000000</td>\n",
       "      <td>28.000000</td>\n",
       "      <td>0.000000</td>\n",
       "      <td>0.000000</td>\n",
       "      <td>14.454200</td>\n",
       "    </tr>\n",
       "    <tr>\n",
       "      <th>75%</th>\n",
       "      <td>668.500000</td>\n",
       "      <td>1.000000</td>\n",
       "      <td>3.000000</td>\n",
       "      <td>38.000000</td>\n",
       "      <td>1.000000</td>\n",
       "      <td>0.000000</td>\n",
       "      <td>31.000000</td>\n",
       "    </tr>\n",
       "    <tr>\n",
       "      <th>max</th>\n",
       "      <td>891.000000</td>\n",
       "      <td>1.000000</td>\n",
       "      <td>3.000000</td>\n",
       "      <td>80.000000</td>\n",
       "      <td>8.000000</td>\n",
       "      <td>6.000000</td>\n",
       "      <td>512.329200</td>\n",
       "    </tr>\n",
       "  </tbody>\n",
       "</table>\n",
       "</div>"
      ],
      "text/plain": [
       "       PassengerId    Survived      Pclass         Age       SibSp  \\\n",
       "count   891.000000  891.000000  891.000000  714.000000  891.000000   \n",
       "mean    446.000000    0.383838    2.308642   29.699118    0.523008   \n",
       "std     257.353842    0.486592    0.836071   14.526497    1.102743   \n",
       "min       1.000000    0.000000    1.000000    0.420000    0.000000   \n",
       "25%     223.500000    0.000000    2.000000   20.125000    0.000000   \n",
       "50%     446.000000    0.000000    3.000000   28.000000    0.000000   \n",
       "75%     668.500000    1.000000    3.000000   38.000000    1.000000   \n",
       "max     891.000000    1.000000    3.000000   80.000000    8.000000   \n",
       "\n",
       "            Parch        Fare  \n",
       "count  891.000000  891.000000  \n",
       "mean     0.381594   32.204208  \n",
       "std      0.806057   49.693429  \n",
       "min      0.000000    0.000000  \n",
       "25%      0.000000    7.910400  \n",
       "50%      0.000000   14.454200  \n",
       "75%      0.000000   31.000000  \n",
       "max      6.000000  512.329200  "
      ]
     },
     "execution_count": 14,
     "metadata": {},
     "output_type": "execute_result"
    }
   ],
   "source": [
    "# print summary statistics for each column\n",
    "\n",
    "titanic.describe()"
   ]
  },
  {
   "cell_type": "code",
   "execution_count": 15,
   "id": "6a46d590-bbef-45d7-92dc-1d9a533ed7a6",
   "metadata": {
    "tags": []
   },
   "outputs": [
    {
     "name": "stdout",
     "output_type": "stream",
     "text": [
      "Survived\n",
      "0    30.626179\n",
      "1    28.343690\n",
      "Name: Age, dtype: float64\n"
     ]
    }
   ],
   "source": [
    "print(titanic.groupby(\"Survived\")[\"Age\"].mean())"
   ]
  },
  {
   "cell_type": "markdown",
   "id": "eb254fe5-6f18-4051-862e-f227900a0c0b",
   "metadata": {
    "tags": []
   },
   "source": [
    "### 2.3 Matplotlib"
   ]
  },
  {
   "cell_type": "markdown",
   "id": "109c6107-9fe9-4f1b-8f73-c7cf8567f26f",
   "metadata": {},
   "source": [
    "`Matplotlib` is a comprehensive library for creating static, animated, and interactive visualizations in Python."
   ]
  },
  {
   "cell_type": "markdown",
   "id": "05109d4f-ac98-4e95-b7d8-8e9c761fa7a5",
   "metadata": {
    "tags": []
   },
   "source": [
    "#### Visualization of the Titanic passenger data"
   ]
  },
  {
   "cell_type": "code",
   "execution_count": 16,
   "id": "ae24276b-9446-44cc-960b-53a6f253ddaf",
   "metadata": {
    "tags": []
   },
   "outputs": [
    {
     "data": {
      "text/plain": [
       "<matplotlib.legend.Legend at 0x7e0ae4792800>"
      ]
     },
     "execution_count": 16,
     "metadata": {},
     "output_type": "execute_result"
    },
    {
     "data": {
      "image/png": "[encoded data removed]",
      "text/plain": [
       "<Figure size 900x600 with 1 Axes>"
      ]
     },
     "metadata": {},
     "output_type": "display_data"
    }
   ],
   "source": [
    "import matplotlib.pyplot as plt\n",
    "\n",
    "plt.figure(figsize=(9, 6))\n",
    "plt.hist(\n",
    "    [\n",
    "        titanic[titanic[\"Survived\"] == 1][\"Age\"],\n",
    "        titanic[titanic[\"Survived\"] == 0][\"Age\"],\n",
    "    ],\n",
    "    stacked=True,\n",
    "    bins=30,\n",
    "    label=[\"Survived\", \"Dead\"],\n",
    ")\n",
    "plt.xlabel(\"Age (in Years)\")\n",
    "plt.ylabel(\"Number of passengers on Titanic\")\n",
    "plt.legend()"
   ]
  },
  {
   "cell_type": "markdown",
   "id": "3f86f718-9f4f-4aa3-a9a8-1983f051c894",
   "metadata": {
    "tags": []
   },
   "source": [
    "# GPU Programming using Python"
   ]
  },
  {
   "cell_type": "markdown",
   "id": "6db510a0-d3e6-4864-8c27-e87386ed8ad1",
   "metadata": {
    "tags": []
   },
   "source": [
    "There are several options available to work with python for GPU programming.\n",
    "- [GPU Programming: When, Why and How?](https://enccs.github.io/gpu-programming/)\n",
    "- [GPU Programming (Carpentries)](https://arc.leeds.ac.uk/lesson-gpu-programming/)"
   ]
  },
  {
   "cell_type": "markdown",
   "id": "44193981-5339-405c-a4b8-d6e679f531ea",
   "metadata": {
    "tags": []
   },
   "source": [
    "## 1. **`cuDF`** and **`cuML`** libraries in ![RAPIDS](img/RAPIDS-logo.png)"
   ]
  },
  {
   "attachments": {},
   "cell_type": "markdown",
   "id": "aedb46c8-5d82-4d11-8f8e-9297721623b8",
   "metadata": {
    "jp-MarkdownHeadingCollapsed": true,
    "tags": []
   },
   "source": [
    "[RAPIDS](https://rapids.ai/) is a high-level package collections which implement CUDA functionalities and API with Python bindings.\n",
    "\n",
    "**It only supports NVIDIA GPUs.**\n",
    "\n",
    "- **`cuDF`** is the dataframe library for manipulating tabular datasets using GPU. cuDF provides a Pandas-like API for loading, joining, aggregating, filtering, and manipulating data.\n",
    "- **`cuML`** is a suite of libraries that implement algorithms and mathematical primitives functions to train machine learning models on your data to make predictions, similar to the `scikit-learn` API.\n",
    "\n"
   ]
  },
  {
   "cell_type": "markdown",
   "id": "2c38f731-22fd-43f8-b527-a9458091b77a",
   "metadata": {
    "tags": []
   },
   "source": [
    "## 2. Numba"
   ]
  },
  {
   "cell_type": "markdown",
   "id": "216688a2-4cf2-4afd-b0c8-97e9c774a548",
   "metadata": {},
   "source": [
    "`Numba` is an open-source just-in-time (JIT) compiler that translates a subset of Python and NumPy into fast machine code using LLVM.\n",
    "\n",
    "`Numba` offers options for parallelising Python code for CPUs and GPUs, with minor code changes."
   ]
  },
  {
   "cell_type": "markdown",
   "id": "6d8dc43d-04d4-44d7-b823-ff6e9e55161f",
   "metadata": {
    "tags": []
   },
   "source": [
    "### 2.1 `numba.jit()` decorator"
   ]
  },
  {
   "cell_type": "markdown",
   "id": "4be56abb-717a-422a-805f-cf82b9bc6170",
   "metadata": {},
   "source": [
    "Numba provides several utilities for code generation, and its central feature is the `numba.jit()` decorator."
   ]
  },
  {
   "cell_type": "code",
   "execution_count": 17,
   "id": "480e4a76-9f9e-4fc0-97d7-cac700faa4a4",
   "metadata": {
    "tags": []
   },
   "outputs": [
    {
     "name": "stdout",
     "output_type": "stream",
     "text": [
      "74.6 μs ± 2.14 μs per loop (mean ± std. dev. of 7 runs, 10,000 loops each)\n"
     ]
    }
   ],
   "source": [
    "import numpy as np\n",
    "\n",
    "mx = np.arange(10000).reshape(100, 100)\n",
    "\n",
    "\n",
    "def go_slow(a):  # Function is compiled and runs in machine code\n",
    "    rst = 0.0\n",
    "    for i in range(a.shape[0]):\n",
    "        rst += np.sin(a[i, i])\n",
    "    return rst\n",
    "\n",
    "\n",
    "%timeit go_slow(mx)"
   ]
  },
  {
   "cell_type": "code",
   "execution_count": 18,
   "id": "55dc71d6-a839-4046-8fc7-d50106e6e38f",
   "metadata": {
    "tags": []
   },
   "outputs": [
    {
     "name": "stdout",
     "output_type": "stream",
     "text": [
      "The slowest run took 5.40 times longer than the fastest. This could mean that an intermediate result is being cached.\n",
      "3.83 μs ± 3.5 μs per loop (mean ± std. dev. of 7 runs, 1 loop each)\n"
     ]
    }
   ],
   "source": [
    "from numba import jit\n",
    "\n",
    "\n",
    "@jit(nopython=True)\n",
    "def go_fast(a):\n",
    "    rst = 0.0\n",
    "    for i in range(a.shape[0]):\n",
    "        rst += np.cos(a[i, i])\n",
    "    return rst\n",
    "\n",
    "\n",
    "%timeit go_fast(mx)"
   ]
  },
  {
   "cell_type": "markdown",
   "id": "e51dc921-49e6-4b65-ba2a-15bfaade47ee",
   "metadata": {
    "tags": []
   },
   "source": [
    "### 2.2 `ufunc` and `gufunc`"
   ]
  },
  {
   "cell_type": "markdown",
   "id": "9e26f85d-ef37-4660-964a-0dac2ece4710",
   "metadata": {},
   "source": [
    "Another feature of Numba is to generate NumPy universal functions.\n",
    "\n",
    "There are two types of universal functions:\n",
    "- Those which operate on scalars are “universal functions” (`ufunc`), which are achieved via `@vectorize` decorator\n",
    "- Those which operate on higher dimensional arrays and scalars are “generalized universal functions” (`gufunc`), which are achived via `@guvectorize` decorator"
   ]
  },
  {
   "cell_type": "code",
   "execution_count": 19,
   "id": "e6807c5c-9d1d-4bf8-9793-55f45e9ae33d",
   "metadata": {
    "tags": []
   },
   "outputs": [],
   "source": [
    "import math\n",
    "import numpy as np\n",
    "import numba\n",
    "\n",
    "\n",
    "# a simple version without using numba\n",
    "def func_cpu(x, y):\n",
    "    return math.pow(x, 3.0) + 4 * math.sin(y)\n",
    "\n",
    "\n",
    "@numba.vectorize([numba.float64(numba.float64, numba.float64)], target=\"cpu\")\n",
    "def func_numba_cpu(x, y):\n",
    "    return math.pow(x, 3.0) + 4 * math.sin(y)\n",
    "\n",
    "\n",
    "@numba.vectorize([numba.float64(numba.float64, numba.float64)], target=\"cuda\")\n",
    "def func_numba_gpu(x, y):\n",
    "    return math.pow(x, 3.0) + 4 * math.sin(y)"
   ]
  },
  {
   "cell_type": "code",
   "execution_count": 20,
   "id": "2ccc430e-1d26-4d78-840a-c3648ff84d13",
   "metadata": {
    "tags": []
   },
   "outputs": [],
   "source": [
    "N = 10000000\n",
    "mx = np.random.rand(N)\n",
    "result = np.random.rand(N)"
   ]
  },
  {
   "cell_type": "code",
   "execution_count": 21,
   "id": "14c07e5c-6390-4734-a73e-5cb471b39e83",
   "metadata": {
    "tags": []
   },
   "outputs": [
    {
     "name": "stdout",
     "output_type": "stream",
     "text": [
      "3.08 s ± 0 ns per loop (mean ± std. dev. of 1 run, 1 loop each)\n"
     ]
    }
   ],
   "source": [
    "%%timeit -r 1\n",
    "for i in range(N):\n",
    "    result[i] = func_cpu(mx[i], mx[i])"
   ]
  },
  {
   "cell_type": "code",
   "execution_count": 22,
   "id": "fcf16d2a-362f-4538-9f89-9894be9a34e0",
   "metadata": {
    "tags": []
   },
   "outputs": [
    {
     "name": "stdout",
     "output_type": "stream",
     "text": [
      "170 ms ± 141 μs per loop (mean ± std. dev. of 7 runs, 10 loops each)\n"
     ]
    }
   ],
   "source": [
    "%timeit result = func_numba_cpu(mx, mx)"
   ]
  },
  {
   "cell_type": "code",
   "execution_count": 23,
   "id": "7052449a-2dd1-412e-8eeb-69311100a0cf",
   "metadata": {
    "tags": []
   },
   "outputs": [
    {
     "name": "stdout",
     "output_type": "stream",
     "text": [
      "75.5 ms ± 1.26 ms per loop (mean ± std. dev. of 7 runs, 10 loops each)\n"
     ]
    }
   ],
   "source": [
    "%timeit result = func_numba_gpu(mx, mx)"
   ]
  },
  {
   "cell_type": "markdown",
   "id": "1c0f091c-abf7-4c3f-a6f5-6295cb7fd79e",
   "metadata": {
    "tags": []
   },
   "source": [
    "**NOTE**\n",
    "- Using `ufunc` (or `gufunc`) for GPU programming may not always yield optimal performance due to automatic handling of data transfer and kernel launching.\n",
    "- In practical applications, not every function can be constructed as a `ufunc`.\n",
    "- To gain a better performance, one need to calibrate kernels and manually manage data transfer."
   ]
  },
  {
   "cell_type": "markdown",
   "id": "b91dd946-84e1-4810-8ae6-1b56fba0d3fe",
   "metadata": {
    "tags": []
   },
   "source": [
    "### 2.3 An example for vector addition"
   ]
  },
  {
   "cell_type": "code",
   "execution_count": 24,
   "id": "1f771a27-ca6c-4f89-a58a-3dbea92e0015",
   "metadata": {
    "tags": []
   },
   "outputs": [],
   "source": [
    "import numpy as np\n",
    "import numba\n",
    "\n",
    "\n",
    "@numba.cuda.jit\n",
    "def func(a, b, c):\n",
    "    # like threadIdx.x + (blockIdx.x * blockDim.x)\n",
    "    tid = numba.cuda.grid(1)\n",
    "    size = len(c)\n",
    "\n",
    "    if tid < size:\n",
    "        c[tid] = a[tid] + b[tid]"
   ]
  },
  {
   "cell_type": "code",
   "execution_count": 25,
   "id": "b5bf61f2-e62f-45be-a1f2-ca016833855e",
   "metadata": {
    "tags": []
   },
   "outputs": [],
   "source": [
    "N = 10000000\n",
    "a = numba.cuda.to_device(np.random.random(N))\n",
    "b = numba.cuda.to_device(np.random.random(N))\n",
    "c = numba.cuda.device_array_like(a)"
   ]
  },
  {
   "cell_type": "code",
   "execution_count": 26,
   "id": "b4733df6-a6aa-4972-9ef4-69d604d3cfeb",
   "metadata": {
    "tags": []
   },
   "outputs": [
    {
     "name": "stdout",
     "output_type": "stream",
     "text": [
      "2.64 ms ± 1.08 μs per loop (mean ± std. dev. of 7 runs, 1,000 loops each)\n",
      "[0.84947737 1.29048631 1.10367233 ... 1.53112959 0.72425712 0.81064006]\n"
     ]
    }
   ],
   "source": [
    "%timeit func.forall(len(a))(a, b, c)\n",
    "print(c.copy_to_host())"
   ]
  },
  {
   "cell_type": "code",
   "execution_count": 27,
   "id": "590c1cde-0d10-4643-bc60-0d4f66ad7d5b",
   "metadata": {
    "scrolled": true,
    "tags": []
   },
   "outputs": [
    {
     "name": "stdout",
     "output_type": "stream",
     "text": [
      "2.64 ms ± 103 ns per loop (mean ± std. dev. of 7 runs, 1,000 loops each)\n",
      "[0.84947737 1.29048631 1.10367233 ... 1.53112959 0.72425712 0.81064006]\n"
     ]
    }
   ],
   "source": [
    "nthreads = 256  # Enough threads per block for several warps per block\n",
    "nblocks = (len(a) // nthreads) + 1  # Enough blocks to cover entire vector\n",
    "\n",
    "%timeit func[nblocks, nthreads](a, b, c)\n",
    "print(c.copy_to_host())"
   ]
  },
  {
   "cell_type": "markdown",
   "id": "130bcc0d-4fb5-4420-b285-33b0d63804ce",
   "metadata": {},
   "source": [
    "## 3. Jax\n",
    "\n",
    "<!--TODO -->"
   ]
  },
  {
   "cell_type": "markdown",
   "id": "94ad36e6-843f-42e9-87cd-890eb6730c4b",
   "metadata": {
    "tags": []
   },
   "source": [
    "## 4. CuPy"
   ]
  },
  {
   "cell_type": "markdown",
   "id": "e660cfaa-fda1-4487-a6c3-939d1c5be457",
   "metadata": {},
   "source": [
    "`CuPy` is a NumPy/SciPy-compatible array library for GPU-accelerated computing with Python. \n",
    "- It has been developed for NVIDIA GPUs but has experimental support both NVIDIA and AMD GPUs.\n",
    "- All you need to do is replace `numpy` and `scipy` with `cupy` and `cupyx.scipy` in your Python code.\n",
    "\n",
    "Tutorials:\n",
    "- https://docs.cupy.dev/en/stable/user_guide/basic.html\n",
    "- https://arc.leeds.ac.uk/lesson-gpu-programming/02-cupy/index.html\n",
    "- https://carpentries-incubator.github.io/lesson-gpu-programming/cupy.html"
   ]
  },
  {
   "cell_type": "markdown",
   "id": "7108afec-2f54-4f51-9b1f-8617ad7ed86f",
   "metadata": {},
   "source": [
    "**Replacement of numpy with cupy**"
   ]
  },
  {
   "cell_type": "code",
   "execution_count": 28,
   "id": "6e9dc711-dd0b-4c26-a9be-99d57608f019",
   "metadata": {
    "tags": []
   },
   "outputs": [
    {
     "name": "stdout",
     "output_type": "stream",
     "text": [
      "Using Numpy:  16.881943016134134\n",
      "Using Cupy:   16.881943016134134\n"
     ]
    }
   ],
   "source": [
    "import cupy as cp\n",
    "import numpy as np\n",
    "\n",
    "lst = [1, 2, 3, 4, 5, 6, 7, 8, 9]\n",
    "\n",
    "# creating arrays\n",
    "lst_cpu = np.array(lst)\n",
    "lst_gpu = cp.array(lst)\n",
    "\n",
    "# calculate the Euclidean norm\n",
    "lst_cpu_norm = np.linalg.norm(lst_cpu)\n",
    "lst_gpu_norm = cp.linalg.norm(lst_gpu)\n",
    "\n",
    "print(\"Using Numpy: \", lst_cpu_norm)\n",
    "print(\"Using Cupy:  \", lst_gpu_norm)"
   ]
  },
  {
   "cell_type": "markdown",
   "id": "d796cdd7-19f3-4759-8025-4cfb6257a5c7",
   "metadata": {},
   "source": [
    "**Speed comparison between cupy and numpy**"
   ]
  },
  {
   "cell_type": "code",
   "execution_count": 29,
   "id": "861e6adc-abe2-4553-97a2-f0cb70aab1b2",
   "metadata": {
    "tags": []
   },
   "outputs": [
    {
     "name": "stdout",
     "output_type": "stream",
     "text": [
      "Time consumed by numpy:  0.5348212718963623\n",
      "Time consumed by cupy :  0.16929936408996582\n"
     ]
    }
   ],
   "source": [
    "# speed comparison between cupy and numpy\n",
    "\n",
    "import time\n",
    "\n",
    "# NumPy and CPU Runtime\n",
    "start = time.time()\n",
    "x_cpu = np.random.random((10000, 10000))\n",
    "end = time.time()\n",
    "print(\"Time consumed by numpy: \", end - start)\n",
    "\n",
    "# CuPy and GPU Runtime\n",
    "start = time.time()\n",
    "x_gpu = cp.random.random((10000, 10000))\n",
    "end = time.time()\n",
    "print(\"Time consumed by cupy : \", end - start)"
   ]
  },
  {
   "cell_type": "markdown",
   "id": "76969a74-72bd-411e-9ceb-c369bfd7da6f",
   "metadata": {},
   "source": [
    "**Interfacing with user-defined Kernels**"
   ]
  },
  {
   "cell_type": "code",
   "execution_count": 30,
   "id": "f640996c-69ff-4c6c-a946-6c16f649a258",
   "metadata": {
    "tags": []
   },
   "outputs": [
    {
     "data": {
      "text/plain": [
       "array([[ 0.,  1.,  2.,  3.,  4.],\n",
       "       [ 5.,  6.,  7.,  8.,  9.],\n",
       "       [10., 11., 12., 13., 14.],\n",
       "       [15., 16., 17., 18., 19.],\n",
       "       [20., 21., 22., 23., 24.]], dtype=float32)"
      ]
     },
     "execution_count": 30,
     "metadata": {},
     "output_type": "execute_result"
    }
   ],
   "source": [
    "import cupy as cp\n",
    "\n",
    "add_kernel = cp.RawKernel(\n",
    "    r\"\"\"\n",
    "extern \"C\" __global__\n",
    "void my_add(const float* x1, const float* x2, float* y) {\n",
    "    int tid = blockDim.x * blockIdx.x + threadIdx.x;\n",
    "    y[tid] = x1[tid] + x2[tid];\n",
    "}\n",
    "\"\"\",\n",
    "    \"my_add\",\n",
    ")\n",
    "\n",
    "x1 = cp.arange(25, dtype=cp.float32).reshape(5, 5)\n",
    "x2 = cp.arange(25, dtype=cp.float32).reshape(5, 5)\n",
    "\n",
    "x2"
   ]
  },
  {
   "cell_type": "code",
   "execution_count": 31,
   "id": "27e7a34b-e550-4532-a884-714d6a43b501",
   "metadata": {},
   "outputs": [
    {
     "data": {
      "text/plain": [
       "array([[0., 0., 0., 0., 0.],\n",
       "       [0., 0., 0., 0., 0.],\n",
       "       [0., 0., 0., 0., 0.],\n",
       "       [0., 0., 0., 0., 0.],\n",
       "       [0., 0., 0., 0., 0.]], dtype=float32)"
      ]
     },
     "execution_count": 31,
     "metadata": {},
     "output_type": "execute_result"
    }
   ],
   "source": [
    "y = cp.zeros((5, 5), dtype=cp.float32)\n",
    "y"
   ]
  },
  {
   "cell_type": "code",
   "execution_count": 32,
   "id": "d1573d50-74d6-4dba-9e2c-f49cfa1f2c2c",
   "metadata": {
    "tags": []
   },
   "outputs": [
    {
     "data": {
      "text/plain": [
       "array([[ 0.,  2.,  4.,  6.,  8.],\n",
       "       [10., 12., 14., 16., 18.],\n",
       "       [20., 22., 24., 26., 28.],\n",
       "       [30., 32., 34., 36., 38.],\n",
       "       [40., 42., 44., 46., 48.]], dtype=float32)"
      ]
     },
     "execution_count": 32,
     "metadata": {},
     "output_type": "execute_result"
    }
   ],
   "source": [
    "add_kernel((5,), (5,), (x1, x2, y))  # grid, block and arguments\n",
    "\n",
    "y"
   ]
  },
  {
   "cell_type": "markdown",
   "id": "2073c3f0-048f-4e77-9e51-fdd017d4bce5",
   "metadata": {
    "tags": []
   },
   "source": [
    "## 5. PyCUDA"
   ]
  },
  {
   "cell_type": "markdown",
   "id": "3a7e87f6-02e3-461e-8a63-92098cb33671",
   "metadata": {
    "tags": []
   },
   "source": [
    "[PyCUDA](https://pypi.org/project/pycuda/) is a Python programming environment for CUDA\n",
    "- It allows users to access to NVIDIA’s CUDA parallel computing API from Python.\n",
    "- PyCUDA is powerful library but only runs on NVIDIA GPUs.\n",
    "- Knowledge of CUDA programming is needed."
   ]
  },
  {
   "cell_type": "code",
   "execution_count": 36,
   "id": "6e4f986d-ba5e-4022-9136-2875a5098102",
   "metadata": {},
   "outputs": [],
   "source": [
    "# Step 1: Initialization\n",
    "\n",
    "import pycuda.driver as cuda\n",
    "import pycuda.autoinit\n",
    "from pycuda.compiler import SourceModule"
   ]
  },
  {
   "cell_type": "code",
   "execution_count": 37,
   "id": "c34591de-1678-4f17-81c1-6e45f0504637",
   "metadata": {
    "tags": []
   },
   "outputs": [
    {
     "name": "stdout",
     "output_type": "stream",
     "text": [
      "[[ 1.5175675  -0.257516   -0.75677353  1.8763617 ]\n",
      " [ 1.5207194  -0.4681523   0.9198897   1.1434488 ]\n",
      " [ 0.56602633 -0.9412994  -1.265326    0.28931567]\n",
      " [-0.52165884 -0.822712   -0.75301474 -0.5751968 ]]\n"
     ]
    }
   ],
   "source": [
    "# Step 2: Transferring data\n",
    "\n",
    "# 2.1: Generating numbers with single precision\n",
    "import numpy as np\n",
    "\n",
    "mx_cpu = np.random.randn(4, 4)\n",
    "mx_cpu = mx_cpu.astype(np.float32)\n",
    "print(mx_cpu, end=\"\\n\")\n",
    "\n",
    "# 2.2: Allocation of memory on GPU\n",
    "mx_gpu = cuda.mem_alloc(mx_cpu.nbytes)\n",
    "\n",
    "# 2.3: Transferring data from CPU (host) to GPU (device)\n",
    "cuda.memcpy_htod(mx_gpu, mx_cpu)"
   ]
  },
  {
   "cell_type": "code",
   "execution_count": 38,
   "id": "34b741e9-f8a5-45f4-933b-54ac94e55069",
   "metadata": {},
   "outputs": [],
   "source": [
    "# Step 3: Executing a kernel on GPU\n",
    "\n",
    "# 3.1 Definition of the kernel\n",
    "mod = SourceModule(\n",
    "    \"\"\"\n",
    "  __global__ void doublify(float *a)\n",
    "  {\n",
    "    int idx = threadIdx.x + threadIdx.y*4;\n",
    "    a[idx] *= 2.0;\n",
    "  }\n",
    "  \"\"\"\n",
    ")\n",
    "\n",
    "# 3.2 Compile this kernel, loading it onto GPU, and then call this kernel\n",
    "func = mod.get_function(\"doublify\")\n",
    "\n",
    "func(mx_gpu, block=(4, 4, 1), grid=(1, 1))"
   ]
  },
  {
   "cell_type": "code",
   "execution_count": 39,
   "id": "499403ed-3144-49b4-9d4f-2d32996aae2d",
   "metadata": {},
   "outputs": [
    {
     "name": "stdout",
     "output_type": "stream",
     "text": [
      "[[ 1.5175675  -0.257516   -0.75677353  1.8763617 ]\n",
      " [ 1.5207194  -0.4681523   0.9198897   1.1434488 ]\n",
      " [ 0.56602633 -0.9412994  -1.265326    0.28931567]\n",
      " [-0.52165884 -0.822712   -0.75301474 -0.5751968 ]] \n",
      "\n",
      " [[ 3.035135   -0.515032   -1.5135471   3.7527235 ]\n",
      " [ 3.0414388  -0.9363046   1.8397794   2.2868977 ]\n",
      " [ 1.1320527  -1.8825988  -2.530652    0.57863134]\n",
      " [-1.0433177  -1.645424   -1.5060295  -1.1503936 ]]\n"
     ]
    }
   ],
   "source": [
    "# Step 4: Transferring data from GPU (device) to CPU (host)\n",
    "\n",
    "mx_doubled = np.empty_like(mx_cpu)\n",
    "cuda.memcpy_dtoh(mx_doubled, mx_gpu)\n",
    "\n",
    "print(mx_cpu, \"\\n\\n\", mx_doubled)"
   ]
  },
  {
   "cell_type": "code",
   "execution_count": 40,
   "id": "2ca7fa6f-18eb-42dd-8f38-5673ae8bc40e",
   "metadata": {
    "tags": []
   },
   "outputs": [
    {
     "name": "stdout",
     "output_type": "stream",
     "text": [
      "[[ 0.24116784 -0.5703912   0.8994447  -0.0712574 ]\n",
      " [-0.9725065   0.44660795 -0.27463588  0.23193799]\n",
      " [ 0.28120583  1.1501592   1.5640221  -1.6654408 ]\n",
      " [ 0.6329049   1.5537844  -0.04895584  0.08967403]] \n",
      "\n",
      " [[ 0.4823357  -1.1407824   1.7988894  -0.1425148 ]\n",
      " [-1.945013    0.8932159  -0.54927176  0.46387598]\n",
      " [ 0.56241167  2.3003185   3.1280441  -3.3308816 ]\n",
      " [ 1.2658098   3.1075687  -0.09791169  0.17934807]]\n"
     ]
    }
   ],
   "source": [
    "# Bonus: Abstracting Away the Complications\n",
    "# Using a pycuda.gpuarray to achieve the same effect with less writing\n",
    "\n",
    "import pycuda.gpuarray as gpuarray\n",
    "\n",
    "mx_gpu = gpuarray.to_gpu(np.random.randn(4, 4).astype(np.float32))\n",
    "mx_doubled = (2 * mx_gpu).get()\n",
    "\n",
    "print(mx_gpu, \"\\n\\n\", mx_doubled)"
   ]
  },
  {
   "cell_type": "code",
   "execution_count": null,
   "id": "3b136511-b4e4-4a67-8174-002ba26adf94",
   "metadata": {},
   "outputs": [],
   "source": []
  }
 ],
 "metadata": {
  "kernelspec": {
   "display_name": "Python 3 (ipykernel)",
   "language": "python",
   "name": "python3"
  },
  "language_info": {
   "codemirror_mode": {
    "name": "ipython",
    "version": 3
   },
   "file_extension": ".py",
   "mimetype": "text/x-python",
   "name": "python",
   "nbconvert_exporter": "python",
   "pygments_lexer": "ipython3",
   "version": "3.10.15"
  }
 },
 "nbformat": 4,
 "nbformat_minor": 5
}
